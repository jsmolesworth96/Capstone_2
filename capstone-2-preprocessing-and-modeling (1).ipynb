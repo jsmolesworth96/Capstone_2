{
 "cells": [
  {
   "cell_type": "markdown",
   "metadata": {},
   "source": [
    "<font size=\"5\">Pitchfork Reviews Project: Preprocessing and Modeling<h1>"
   ]
  },
  {
   "cell_type": "markdown",
   "metadata": {},
   "source": [
    "**Preprocessing**"
   ]
  },
  {
   "cell_type": "code",
   "execution_count": 341,
   "metadata": {
    "_cell_guid": "79c7e3d0-c299-4dcb-8224-4455121ee9b0",
    "_uuid": "d629ff2d2480ee46fbb7e2d37f6b5fab8052498a"
   },
   "outputs": [],
   "source": [
    "#Import Packages\n",
    "import pandas as pd\n",
    "import numpy as np\n",
    "from sklearn.preprocessing import StandardScaler\n",
    "from sklearn.model_selection import train_test_split\n",
    "from sklearn.ensemble import RandomForestClassifier\n",
    "from sklearn.metrics import make_scorer, accuracy_score\n",
    "from sklearn.model_selection import GridSearchCV\n",
    "from sklearn.metrics import roc_auc_score\n",
    "from sklearn.model_selection import KFold\n",
    "from sklearn.model_selection import ShuffleSplit\n",
    "from sklearn.metrics import confusion_matrix\n",
    "from sklearn.metrics import classification_report\n",
    "from sklearn.metrics import roc_curve, roc_auc_score\n",
    "from sklearn.naive_bayes import GaussianNB\n",
    "import matplotlib.pyplot as plt\n",
    "from imblearn.over_sampling import SMOTE\n",
    "from sklearn.pipeline import make_pipeline\n",
    "from sklearn.svm import SVC\n",
    "from sklearn.linear_model import LogisticRegression\n",
    "from sklearn import metrics\n",
    "from matplotlib import pyplot\n",
    "from sklearn.metrics import precision_recall_curve\n",
    "from sklearn.metrics import f1_score\n",
    "from sklearn.metrics import balanced_accuracy_score\n",
    "from sklearn.metrics import accuracy_score\n",
    "from sklearn.metrics import fbeta_score\n",
    "from sklearn.pipeline import Pipeline\n",
    "from sklearn.model_selection import StratifiedKFold\n",
    "from sklearn.base import TransformerMixin\n",
    "from sklearn.feature_extraction.text import CountVectorizer\n",
    "from sklearn.metrics import plot_precision_recall_curve\n",
    "import seaborn as sns\n",
    "import matplotlib.pyplot as plt\n",
    "from scipy import stats"
   ]
  },
  {
   "cell_type": "code",
   "execution_count": 202,
   "metadata": {},
   "outputs": [
    {
     "data": {
      "text/html": [
       "<div>\n",
       "<style scoped>\n",
       "    .dataframe tbody tr th:only-of-type {\n",
       "        vertical-align: middle;\n",
       "    }\n",
       "\n",
       "    .dataframe tbody tr th {\n",
       "        vertical-align: top;\n",
       "    }\n",
       "\n",
       "    .dataframe thead th {\n",
       "        text-align: right;\n",
       "    }\n",
       "</style>\n",
       "<table border=\"1\" class=\"dataframe\">\n",
       "  <thead>\n",
       "    <tr style=\"text-align: right;\">\n",
       "      <th></th>\n",
       "      <th>author</th>\n",
       "      <th>artist</th>\n",
       "      <th>title</th>\n",
       "      <th>genre</th>\n",
       "      <th>date</th>\n",
       "      <th>review_abstract</th>\n",
       "      <th>score</th>\n",
       "      <th>page</th>\n",
       "      <th>target</th>\n",
       "      <th>year</th>\n",
       "      <th>month</th>\n",
       "      <th>self-titled</th>\n",
       "      <th>sophomore</th>\n",
       "      <th>EP</th>\n",
       "      <th>reading_ease</th>\n",
       "      <th>grade_level</th>\n",
       "      <th>word_count</th>\n",
       "      <th>high</th>\n",
       "    </tr>\n",
       "  </thead>\n",
       "  <tbody>\n",
       "    <tr>\n",
       "      <th>0</th>\n",
       "      <td>Ben Cardew</td>\n",
       "      <td>Tricky</td>\n",
       "      <td>Fall to Pieces</td>\n",
       "      <td>Electronic</td>\n",
       "      <td>2020-09-05</td>\n",
       "      <td>After a string of misfires, the UK musician’s ...</td>\n",
       "      <td>7.6</td>\n",
       "      <td>1</td>\n",
       "      <td>medium</td>\n",
       "      <td>2020</td>\n",
       "      <td>September</td>\n",
       "      <td>0</td>\n",
       "      <td>0</td>\n",
       "      <td>0</td>\n",
       "      <td>56.59</td>\n",
       "      <td>11</td>\n",
       "      <td>23</td>\n",
       "      <td>0</td>\n",
       "    </tr>\n",
       "    <tr>\n",
       "      <th>1</th>\n",
       "      <td>Brian Howe</td>\n",
       "      <td>Library Tapes</td>\n",
       "      <td>The Quiet City</td>\n",
       "      <td>ElectronicRock</td>\n",
       "      <td>2020-09-05</td>\n",
       "      <td>The Swedish minimalist composer David Wenngren...</td>\n",
       "      <td>7.0</td>\n",
       "      <td>1</td>\n",
       "      <td>medium</td>\n",
       "      <td>2020</td>\n",
       "      <td>September</td>\n",
       "      <td>0</td>\n",
       "      <td>0</td>\n",
       "      <td>0</td>\n",
       "      <td>64.71</td>\n",
       "      <td>8</td>\n",
       "      <td>30</td>\n",
       "      <td>0</td>\n",
       "    </tr>\n",
       "    <tr>\n",
       "      <th>2</th>\n",
       "      <td>Mike Powell</td>\n",
       "      <td>Bill Callahan</td>\n",
       "      <td>Gold Record</td>\n",
       "      <td>Rock</td>\n",
       "      <td>2020-09-04</td>\n",
       "      <td>On his latest solo record, the singer-songwrit...</td>\n",
       "      <td>8.0</td>\n",
       "      <td>1</td>\n",
       "      <td>high</td>\n",
       "      <td>2020</td>\n",
       "      <td>September</td>\n",
       "      <td>0</td>\n",
       "      <td>0</td>\n",
       "      <td>0</td>\n",
       "      <td>25.12</td>\n",
       "      <td>17</td>\n",
       "      <td>29</td>\n",
       "      <td>1</td>\n",
       "    </tr>\n",
       "    <tr>\n",
       "      <th>3</th>\n",
       "      <td>Zach Schonfeld</td>\n",
       "      <td>Freak Heat Waves</td>\n",
       "      <td>Zap the Planet</td>\n",
       "      <td>RockExperimental</td>\n",
       "      <td>2020-09-04</td>\n",
       "      <td>The funky and hypnotic fourth album from the C...</td>\n",
       "      <td>7.8</td>\n",
       "      <td>1</td>\n",
       "      <td>medium</td>\n",
       "      <td>2020</td>\n",
       "      <td>September</td>\n",
       "      <td>0</td>\n",
       "      <td>0</td>\n",
       "      <td>0</td>\n",
       "      <td>73.51</td>\n",
       "      <td>8</td>\n",
       "      <td>23</td>\n",
       "      <td>0</td>\n",
       "    </tr>\n",
       "    <tr>\n",
       "      <th>4</th>\n",
       "      <td>Alphonse Pierre</td>\n",
       "      <td>YLZoomo</td>\n",
       "      <td>Born Again</td>\n",
       "      <td>Rap</td>\n",
       "      <td>2020-09-04</td>\n",
       "      <td>The NYC rapper YL’s music is full of slice-of-...</td>\n",
       "      <td>7.1</td>\n",
       "      <td>1</td>\n",
       "      <td>medium</td>\n",
       "      <td>2020</td>\n",
       "      <td>September</td>\n",
       "      <td>0</td>\n",
       "      <td>0</td>\n",
       "      <td>0</td>\n",
       "      <td>71.14</td>\n",
       "      <td>7</td>\n",
       "      <td>17</td>\n",
       "      <td>0</td>\n",
       "    </tr>\n",
       "  </tbody>\n",
       "</table>\n",
       "</div>"
      ],
      "text/plain": [
       "            author            artist           title             genre  \\\n",
       "0       Ben Cardew            Tricky  Fall to Pieces        Electronic   \n",
       "1       Brian Howe     Library Tapes  The Quiet City    ElectronicRock   \n",
       "2      Mike Powell     Bill Callahan     Gold Record              Rock   \n",
       "3   Zach Schonfeld  Freak Heat Waves  Zap the Planet  RockExperimental   \n",
       "4  Alphonse Pierre           YLZoomo      Born Again               Rap   \n",
       "\n",
       "         date                                    review_abstract  score  page  \\\n",
       "0  2020-09-05  After a string of misfires, the UK musician’s ...    7.6     1   \n",
       "1  2020-09-05  The Swedish minimalist composer David Wenngren...    7.0     1   \n",
       "2  2020-09-04  On his latest solo record, the singer-songwrit...    8.0     1   \n",
       "3  2020-09-04  The funky and hypnotic fourth album from the C...    7.8     1   \n",
       "4  2020-09-04  The NYC rapper YL’s music is full of slice-of-...    7.1     1   \n",
       "\n",
       "   target  year      month  self-titled  sophomore  EP  reading_ease  \\\n",
       "0  medium  2020  September            0          0   0         56.59   \n",
       "1  medium  2020  September            0          0   0         64.71   \n",
       "2    high  2020  September            0          0   0         25.12   \n",
       "3  medium  2020  September            0          0   0         73.51   \n",
       "4  medium  2020  September            0          0   0         71.14   \n",
       "\n",
       "   grade_level  word_count  high  \n",
       "0           11          23     0  \n",
       "1            8          30     0  \n",
       "2           17          29     1  \n",
       "3            8          23     0  \n",
       "4            7          17     0  "
      ]
     },
     "execution_count": 202,
     "metadata": {},
     "output_type": "execute_result"
    }
   ],
   "source": [
    "#Import Data\n",
    "original_df = pd.read_csv('data.csv')\n",
    "original_df.head()"
   ]
  },
  {
   "cell_type": "code",
   "execution_count": 203,
   "metadata": {},
   "outputs": [
    {
     "data": {
      "text/html": [
       "<div>\n",
       "<style scoped>\n",
       "    .dataframe tbody tr th:only-of-type {\n",
       "        vertical-align: middle;\n",
       "    }\n",
       "\n",
       "    .dataframe tbody tr th {\n",
       "        vertical-align: top;\n",
       "    }\n",
       "\n",
       "    .dataframe thead th {\n",
       "        text-align: right;\n",
       "    }\n",
       "</style>\n",
       "<table border=\"1\" class=\"dataframe\">\n",
       "  <thead>\n",
       "    <tr style=\"text-align: right;\">\n",
       "      <th></th>\n",
       "      <th>author</th>\n",
       "      <th>artist</th>\n",
       "      <th>title</th>\n",
       "      <th>genre</th>\n",
       "      <th>date</th>\n",
       "      <th>review_abstract</th>\n",
       "      <th>score</th>\n",
       "      <th>page</th>\n",
       "      <th>target</th>\n",
       "      <th>year</th>\n",
       "      <th>...</th>\n",
       "      <th>grade_level_22</th>\n",
       "      <th>grade_level_23</th>\n",
       "      <th>grade_level_24</th>\n",
       "      <th>grade_level_25</th>\n",
       "      <th>grade_level_26</th>\n",
       "      <th>grade_level_27</th>\n",
       "      <th>grade_level_28</th>\n",
       "      <th>grade_level_29</th>\n",
       "      <th>grade_level_31</th>\n",
       "      <th>grade_level_32</th>\n",
       "    </tr>\n",
       "  </thead>\n",
       "  <tbody>\n",
       "    <tr>\n",
       "      <th>0</th>\n",
       "      <td>Ben Cardew</td>\n",
       "      <td>Tricky</td>\n",
       "      <td>Fall to Pieces</td>\n",
       "      <td>Electronic</td>\n",
       "      <td>2020-09-05</td>\n",
       "      <td>After a string of misfires, the UK musician’s ...</td>\n",
       "      <td>7.6</td>\n",
       "      <td>1</td>\n",
       "      <td>medium</td>\n",
       "      <td>2020</td>\n",
       "      <td>...</td>\n",
       "      <td>0</td>\n",
       "      <td>0</td>\n",
       "      <td>0</td>\n",
       "      <td>0</td>\n",
       "      <td>0</td>\n",
       "      <td>0</td>\n",
       "      <td>0</td>\n",
       "      <td>0</td>\n",
       "      <td>0</td>\n",
       "      <td>0</td>\n",
       "    </tr>\n",
       "    <tr>\n",
       "      <th>1</th>\n",
       "      <td>Brian Howe</td>\n",
       "      <td>Library Tapes</td>\n",
       "      <td>The Quiet City</td>\n",
       "      <td>ElectronicRock</td>\n",
       "      <td>2020-09-05</td>\n",
       "      <td>The Swedish minimalist composer David Wenngren...</td>\n",
       "      <td>7.0</td>\n",
       "      <td>1</td>\n",
       "      <td>medium</td>\n",
       "      <td>2020</td>\n",
       "      <td>...</td>\n",
       "      <td>0</td>\n",
       "      <td>0</td>\n",
       "      <td>0</td>\n",
       "      <td>0</td>\n",
       "      <td>0</td>\n",
       "      <td>0</td>\n",
       "      <td>0</td>\n",
       "      <td>0</td>\n",
       "      <td>0</td>\n",
       "      <td>0</td>\n",
       "    </tr>\n",
       "    <tr>\n",
       "      <th>2</th>\n",
       "      <td>Mike Powell</td>\n",
       "      <td>Bill Callahan</td>\n",
       "      <td>Gold Record</td>\n",
       "      <td>Rock</td>\n",
       "      <td>2020-09-04</td>\n",
       "      <td>On his latest solo record, the singer-songwrit...</td>\n",
       "      <td>8.0</td>\n",
       "      <td>1</td>\n",
       "      <td>high</td>\n",
       "      <td>2020</td>\n",
       "      <td>...</td>\n",
       "      <td>0</td>\n",
       "      <td>0</td>\n",
       "      <td>0</td>\n",
       "      <td>0</td>\n",
       "      <td>0</td>\n",
       "      <td>0</td>\n",
       "      <td>0</td>\n",
       "      <td>0</td>\n",
       "      <td>0</td>\n",
       "      <td>0</td>\n",
       "    </tr>\n",
       "    <tr>\n",
       "      <th>3</th>\n",
       "      <td>Zach Schonfeld</td>\n",
       "      <td>Freak Heat Waves</td>\n",
       "      <td>Zap the Planet</td>\n",
       "      <td>RockExperimental</td>\n",
       "      <td>2020-09-04</td>\n",
       "      <td>The funky and hypnotic fourth album from the C...</td>\n",
       "      <td>7.8</td>\n",
       "      <td>1</td>\n",
       "      <td>medium</td>\n",
       "      <td>2020</td>\n",
       "      <td>...</td>\n",
       "      <td>0</td>\n",
       "      <td>0</td>\n",
       "      <td>0</td>\n",
       "      <td>0</td>\n",
       "      <td>0</td>\n",
       "      <td>0</td>\n",
       "      <td>0</td>\n",
       "      <td>0</td>\n",
       "      <td>0</td>\n",
       "      <td>0</td>\n",
       "    </tr>\n",
       "    <tr>\n",
       "      <th>4</th>\n",
       "      <td>Alphonse Pierre</td>\n",
       "      <td>YLZoomo</td>\n",
       "      <td>Born Again</td>\n",
       "      <td>Rap</td>\n",
       "      <td>2020-09-04</td>\n",
       "      <td>The NYC rapper YL’s music is full of slice-of-...</td>\n",
       "      <td>7.1</td>\n",
       "      <td>1</td>\n",
       "      <td>medium</td>\n",
       "      <td>2020</td>\n",
       "      <td>...</td>\n",
       "      <td>0</td>\n",
       "      <td>0</td>\n",
       "      <td>0</td>\n",
       "      <td>0</td>\n",
       "      <td>0</td>\n",
       "      <td>0</td>\n",
       "      <td>0</td>\n",
       "      <td>0</td>\n",
       "      <td>0</td>\n",
       "      <td>0</td>\n",
       "    </tr>\n",
       "  </tbody>\n",
       "</table>\n",
       "<p>5 rows × 178 columns</p>\n",
       "</div>"
      ],
      "text/plain": [
       "            author            artist           title             genre  \\\n",
       "0       Ben Cardew            Tricky  Fall to Pieces        Electronic   \n",
       "1       Brian Howe     Library Tapes  The Quiet City    ElectronicRock   \n",
       "2      Mike Powell     Bill Callahan     Gold Record              Rock   \n",
       "3   Zach Schonfeld  Freak Heat Waves  Zap the Planet  RockExperimental   \n",
       "4  Alphonse Pierre           YLZoomo      Born Again               Rap   \n",
       "\n",
       "         date                                    review_abstract  score  page  \\\n",
       "0  2020-09-05  After a string of misfires, the UK musician’s ...    7.6     1   \n",
       "1  2020-09-05  The Swedish minimalist composer David Wenngren...    7.0     1   \n",
       "2  2020-09-04  On his latest solo record, the singer-songwrit...    8.0     1   \n",
       "3  2020-09-04  The funky and hypnotic fourth album from the C...    7.8     1   \n",
       "4  2020-09-04  The NYC rapper YL’s music is full of slice-of-...    7.1     1   \n",
       "\n",
       "   target  year  ... grade_level_22  grade_level_23  grade_level_24  \\\n",
       "0  medium  2020  ...              0               0               0   \n",
       "1  medium  2020  ...              0               0               0   \n",
       "2    high  2020  ...              0               0               0   \n",
       "3  medium  2020  ...              0               0               0   \n",
       "4  medium  2020  ...              0               0               0   \n",
       "\n",
       "   grade_level_25  grade_level_26  grade_level_27  grade_level_28  \\\n",
       "0               0               0               0               0   \n",
       "1               0               0               0               0   \n",
       "2               0               0               0               0   \n",
       "3               0               0               0               0   \n",
       "4               0               0               0               0   \n",
       "\n",
       "   grade_level_29  grade_level_31  grade_level_32  \n",
       "0               0               0               0  \n",
       "1               0               0               0  \n",
       "2               0               0               0  \n",
       "3               0               0               0  \n",
       "4               0               0               0  \n",
       "\n",
       "[5 rows x 178 columns]"
      ]
     },
     "execution_count": 203,
     "metadata": {},
     "output_type": "execute_result"
    }
   ],
   "source": [
    "#Create dummies of categorical variables.\n",
    "dummies_genre = pd.get_dummies(original_df['genre']).rename(columns=lambda x: 'genre_' + str(x))\n",
    "dummies_target = pd.get_dummies(original_df['target']).rename(columns=lambda x: 'target_' + str(x))\n",
    "dummies_year = pd.get_dummies(original_df['year']).rename(columns=lambda x: 'year_' + str(x))\n",
    "dummies_month = pd.get_dummies(original_df['month']).rename(columns=lambda x: 'month_' + str(x))\n",
    "dummies_grade_level = pd.get_dummies(original_df['grade_level']).rename(columns=lambda x: 'grade_level_' + str(x))\n",
    "\n",
    "#Concatenate dummy variables into one dataframe.\n",
    "df = pd.concat([original_df, dummies_genre, dummies_target, dummies_year, dummies_month, dummies_grade_level], axis=1)\n",
    "df.head()"
   ]
  },
  {
   "cell_type": "code",
   "execution_count": 204,
   "metadata": {},
   "outputs": [],
   "source": [
    "#Create dataframe for continuous variables.\n",
    "num_cols = df[['reading_ease', 'word_count']]"
   ]
  },
  {
   "cell_type": "code",
   "execution_count": 205,
   "metadata": {},
   "outputs": [],
   "source": [
    "#Transform continuous variable dataframe into array.\n",
    "num_col_array = np.array(num_cols)"
   ]
  },
  {
   "cell_type": "code",
   "execution_count": 206,
   "metadata": {},
   "outputs": [],
   "source": [
    "#Create scaler object.\n",
    "scaler = StandardScaler()\n",
    "\n",
    "#Fit scaler object to data.\n",
    "nca_fitted = scaler.fit_transform(num_col_array)"
   ]
  },
  {
   "cell_type": "code",
   "execution_count": 207,
   "metadata": {},
   "outputs": [
    {
     "data": {
      "text/html": [
       "<div>\n",
       "<style scoped>\n",
       "    .dataframe tbody tr th:only-of-type {\n",
       "        vertical-align: middle;\n",
       "    }\n",
       "\n",
       "    .dataframe tbody tr th {\n",
       "        vertical-align: top;\n",
       "    }\n",
       "\n",
       "    .dataframe thead th {\n",
       "        text-align: right;\n",
       "    }\n",
       "</style>\n",
       "<table border=\"1\" class=\"dataframe\">\n",
       "  <thead>\n",
       "    <tr style=\"text-align: right;\">\n",
       "      <th></th>\n",
       "      <th>0</th>\n",
       "      <th>1</th>\n",
       "    </tr>\n",
       "  </thead>\n",
       "  <tbody>\n",
       "    <tr>\n",
       "      <th>0</th>\n",
       "      <td>0.341412</td>\n",
       "      <td>-0.761603</td>\n",
       "    </tr>\n",
       "    <tr>\n",
       "      <th>1</th>\n",
       "      <td>0.847959</td>\n",
       "      <td>-0.143450</td>\n",
       "    </tr>\n",
       "    <tr>\n",
       "      <th>2</th>\n",
       "      <td>-1.621769</td>\n",
       "      <td>-0.231757</td>\n",
       "    </tr>\n",
       "    <tr>\n",
       "      <th>3</th>\n",
       "      <td>1.396926</td>\n",
       "      <td>-0.761603</td>\n",
       "    </tr>\n",
       "    <tr>\n",
       "      <th>4</th>\n",
       "      <td>1.249079</td>\n",
       "      <td>-1.291448</td>\n",
       "    </tr>\n",
       "  </tbody>\n",
       "</table>\n",
       "</div>"
      ],
      "text/plain": [
       "          0         1\n",
       "0  0.341412 -0.761603\n",
       "1  0.847959 -0.143450\n",
       "2 -1.621769 -0.231757\n",
       "3  1.396926 -0.761603\n",
       "4  1.249079 -1.291448"
      ]
     },
     "execution_count": 207,
     "metadata": {},
     "output_type": "execute_result"
    }
   ],
   "source": [
    "#Transform fitted array into dataframe.\n",
    "nca_df = pd.DataFrame(nca_fitted)\n",
    "\n",
    "nca_df.head()"
   ]
  },
  {
   "cell_type": "code",
   "execution_count": 208,
   "metadata": {},
   "outputs": [],
   "source": [
    "#Rename variables\n",
    "nca_df = nca_df.rename(columns={0:\"reading_ease_scaled\", 1:\"word_count_scaled\"})"
   ]
  },
  {
   "cell_type": "code",
   "execution_count": 209,
   "metadata": {},
   "outputs": [],
   "source": [
    "#Concatenate dummy column dataframe with scaled dataframe\n",
    "df = pd.concat([df, nca_df], axis=1)"
   ]
  },
  {
   "cell_type": "code",
   "execution_count": 210,
   "metadata": {},
   "outputs": [
    {
     "data": {
      "text/html": [
       "<div>\n",
       "<style scoped>\n",
       "    .dataframe tbody tr th:only-of-type {\n",
       "        vertical-align: middle;\n",
       "    }\n",
       "\n",
       "    .dataframe tbody tr th {\n",
       "        vertical-align: top;\n",
       "    }\n",
       "\n",
       "    .dataframe thead th {\n",
       "        text-align: right;\n",
       "    }\n",
       "</style>\n",
       "<table border=\"1\" class=\"dataframe\">\n",
       "  <thead>\n",
       "    <tr style=\"text-align: right;\">\n",
       "      <th></th>\n",
       "      <th>review_abstract</th>\n",
       "      <th>page</th>\n",
       "      <th>self-titled</th>\n",
       "      <th>sophomore</th>\n",
       "      <th>EP</th>\n",
       "      <th>high</th>\n",
       "      <th>genre_Electronic</th>\n",
       "      <th>genre_ElectronicExperimental</th>\n",
       "      <th>genre_ElectronicExperimentalFolk/Country</th>\n",
       "      <th>genre_ElectronicExperimentalPop/R&amp;B</th>\n",
       "      <th>...</th>\n",
       "      <th>grade_level_24</th>\n",
       "      <th>grade_level_25</th>\n",
       "      <th>grade_level_26</th>\n",
       "      <th>grade_level_27</th>\n",
       "      <th>grade_level_28</th>\n",
       "      <th>grade_level_29</th>\n",
       "      <th>grade_level_31</th>\n",
       "      <th>grade_level_32</th>\n",
       "      <th>reading_ease_scaled</th>\n",
       "      <th>word_count_scaled</th>\n",
       "    </tr>\n",
       "  </thead>\n",
       "  <tbody>\n",
       "    <tr>\n",
       "      <th>0</th>\n",
       "      <td>After a string of misfires, the UK musician’s ...</td>\n",
       "      <td>1</td>\n",
       "      <td>0</td>\n",
       "      <td>0</td>\n",
       "      <td>0</td>\n",
       "      <td>0</td>\n",
       "      <td>1</td>\n",
       "      <td>0</td>\n",
       "      <td>0</td>\n",
       "      <td>0</td>\n",
       "      <td>...</td>\n",
       "      <td>0</td>\n",
       "      <td>0</td>\n",
       "      <td>0</td>\n",
       "      <td>0</td>\n",
       "      <td>0</td>\n",
       "      <td>0</td>\n",
       "      <td>0</td>\n",
       "      <td>0</td>\n",
       "      <td>0.341412</td>\n",
       "      <td>-0.761603</td>\n",
       "    </tr>\n",
       "    <tr>\n",
       "      <th>1</th>\n",
       "      <td>The Swedish minimalist composer David Wenngren...</td>\n",
       "      <td>1</td>\n",
       "      <td>0</td>\n",
       "      <td>0</td>\n",
       "      <td>0</td>\n",
       "      <td>0</td>\n",
       "      <td>0</td>\n",
       "      <td>0</td>\n",
       "      <td>0</td>\n",
       "      <td>0</td>\n",
       "      <td>...</td>\n",
       "      <td>0</td>\n",
       "      <td>0</td>\n",
       "      <td>0</td>\n",
       "      <td>0</td>\n",
       "      <td>0</td>\n",
       "      <td>0</td>\n",
       "      <td>0</td>\n",
       "      <td>0</td>\n",
       "      <td>0.847959</td>\n",
       "      <td>-0.143450</td>\n",
       "    </tr>\n",
       "    <tr>\n",
       "      <th>2</th>\n",
       "      <td>On his latest solo record, the singer-songwrit...</td>\n",
       "      <td>1</td>\n",
       "      <td>0</td>\n",
       "      <td>0</td>\n",
       "      <td>0</td>\n",
       "      <td>1</td>\n",
       "      <td>0</td>\n",
       "      <td>0</td>\n",
       "      <td>0</td>\n",
       "      <td>0</td>\n",
       "      <td>...</td>\n",
       "      <td>0</td>\n",
       "      <td>0</td>\n",
       "      <td>0</td>\n",
       "      <td>0</td>\n",
       "      <td>0</td>\n",
       "      <td>0</td>\n",
       "      <td>0</td>\n",
       "      <td>0</td>\n",
       "      <td>-1.621769</td>\n",
       "      <td>-0.231757</td>\n",
       "    </tr>\n",
       "    <tr>\n",
       "      <th>3</th>\n",
       "      <td>The funky and hypnotic fourth album from the C...</td>\n",
       "      <td>1</td>\n",
       "      <td>0</td>\n",
       "      <td>0</td>\n",
       "      <td>0</td>\n",
       "      <td>0</td>\n",
       "      <td>0</td>\n",
       "      <td>0</td>\n",
       "      <td>0</td>\n",
       "      <td>0</td>\n",
       "      <td>...</td>\n",
       "      <td>0</td>\n",
       "      <td>0</td>\n",
       "      <td>0</td>\n",
       "      <td>0</td>\n",
       "      <td>0</td>\n",
       "      <td>0</td>\n",
       "      <td>0</td>\n",
       "      <td>0</td>\n",
       "      <td>1.396926</td>\n",
       "      <td>-0.761603</td>\n",
       "    </tr>\n",
       "    <tr>\n",
       "      <th>4</th>\n",
       "      <td>The NYC rapper YL’s music is full of slice-of-...</td>\n",
       "      <td>1</td>\n",
       "      <td>0</td>\n",
       "      <td>0</td>\n",
       "      <td>0</td>\n",
       "      <td>0</td>\n",
       "      <td>0</td>\n",
       "      <td>0</td>\n",
       "      <td>0</td>\n",
       "      <td>0</td>\n",
       "      <td>...</td>\n",
       "      <td>0</td>\n",
       "      <td>0</td>\n",
       "      <td>0</td>\n",
       "      <td>0</td>\n",
       "      <td>0</td>\n",
       "      <td>0</td>\n",
       "      <td>0</td>\n",
       "      <td>0</td>\n",
       "      <td>1.249079</td>\n",
       "      <td>-1.291448</td>\n",
       "    </tr>\n",
       "  </tbody>\n",
       "</table>\n",
       "<p>5 rows × 168 columns</p>\n",
       "</div>"
      ],
      "text/plain": [
       "                                     review_abstract  page  self-titled  \\\n",
       "0  After a string of misfires, the UK musician’s ...     1            0   \n",
       "1  The Swedish minimalist composer David Wenngren...     1            0   \n",
       "2  On his latest solo record, the singer-songwrit...     1            0   \n",
       "3  The funky and hypnotic fourth album from the C...     1            0   \n",
       "4  The NYC rapper YL’s music is full of slice-of-...     1            0   \n",
       "\n",
       "   sophomore  EP  high  genre_Electronic  genre_ElectronicExperimental  \\\n",
       "0          0   0     0                 1                             0   \n",
       "1          0   0     0                 0                             0   \n",
       "2          0   0     1                 0                             0   \n",
       "3          0   0     0                 0                             0   \n",
       "4          0   0     0                 0                             0   \n",
       "\n",
       "   genre_ElectronicExperimentalFolk/Country  \\\n",
       "0                                         0   \n",
       "1                                         0   \n",
       "2                                         0   \n",
       "3                                         0   \n",
       "4                                         0   \n",
       "\n",
       "   genre_ElectronicExperimentalPop/R&B  ...  grade_level_24  grade_level_25  \\\n",
       "0                                    0  ...               0               0   \n",
       "1                                    0  ...               0               0   \n",
       "2                                    0  ...               0               0   \n",
       "3                                    0  ...               0               0   \n",
       "4                                    0  ...               0               0   \n",
       "\n",
       "   grade_level_26  grade_level_27  grade_level_28  grade_level_29  \\\n",
       "0               0               0               0               0   \n",
       "1               0               0               0               0   \n",
       "2               0               0               0               0   \n",
       "3               0               0               0               0   \n",
       "4               0               0               0               0   \n",
       "\n",
       "   grade_level_31  grade_level_32  reading_ease_scaled  word_count_scaled  \n",
       "0               0               0             0.341412          -0.761603  \n",
       "1               0               0             0.847959          -0.143450  \n",
       "2               0               0            -1.621769          -0.231757  \n",
       "3               0               0             1.396926          -0.761603  \n",
       "4               0               0             1.249079          -1.291448  \n",
       "\n",
       "[5 rows x 168 columns]"
      ]
     },
     "execution_count": 210,
     "metadata": {},
     "output_type": "execute_result"
    }
   ],
   "source": [
    "#Drop non-scaled/preprocessed columns.\n",
    "df = df.drop(['author', 'artist', 'title', 'genre', 'date', 'target','score', 'year', 'month', 'reading_ease', 'word_count', 'grade_level'], axis=1)\n",
    "df.head()"
   ]
  },
  {
   "cell_type": "markdown",
   "metadata": {},
   "source": [
    "Create text features dataframe"
   ]
  },
  {
   "cell_type": "code",
   "execution_count": 231,
   "metadata": {},
   "outputs": [],
   "source": [
    "vectorizer = CountVectorizer(min_df = 29, stop_words = 'english')\n",
    "features = vectorizer.fit_transform(df['review_abstract'])"
   ]
  },
  {
   "cell_type": "code",
   "execution_count": 232,
   "metadata": {},
   "outputs": [],
   "source": [
    "count_vect_df = pd.DataFrame(features.todense(), columns=vectorizer.get_feature_names())"
   ]
  },
  {
   "cell_type": "code",
   "execution_count": 233,
   "metadata": {},
   "outputs": [],
   "source": [
    "count_vect_df = count_vect_df.drop(columns=['10', '12', '13', '15', '16', '17', '19', 'high'])"
   ]
  },
  {
   "cell_type": "code",
   "execution_count": 234,
   "metadata": {},
   "outputs": [],
   "source": [
    "df = pd.concat([df, count_vect_df], axis = 1)"
   ]
  },
  {
   "cell_type": "code",
   "execution_count": 236,
   "metadata": {},
   "outputs": [],
   "source": [
    "df = df.drop(columns='page')"
   ]
  },
  {
   "cell_type": "code",
   "execution_count": 237,
   "metadata": {},
   "outputs": [
    {
     "data": {
      "text/html": [
       "<div>\n",
       "<style scoped>\n",
       "    .dataframe tbody tr th:only-of-type {\n",
       "        vertical-align: middle;\n",
       "    }\n",
       "\n",
       "    .dataframe tbody tr th {\n",
       "        vertical-align: top;\n",
       "    }\n",
       "\n",
       "    .dataframe thead th {\n",
       "        text-align: right;\n",
       "    }\n",
       "</style>\n",
       "<table border=\"1\" class=\"dataframe\">\n",
       "  <thead>\n",
       "    <tr style=\"text-align: right;\">\n",
       "      <th></th>\n",
       "      <th>review_abstract</th>\n",
       "      <th>self-titled</th>\n",
       "      <th>sophomore</th>\n",
       "      <th>EP</th>\n",
       "      <th>high</th>\n",
       "      <th>genre_Electronic</th>\n",
       "      <th>genre_ElectronicExperimental</th>\n",
       "      <th>genre_ElectronicExperimentalFolk/Country</th>\n",
       "      <th>genre_ElectronicExperimentalPop/R&amp;B</th>\n",
       "      <th>genre_ElectronicExperimentalRock</th>\n",
       "      <th>...</th>\n",
       "      <th>worth</th>\n",
       "      <th>writing</th>\n",
       "      <th>written</th>\n",
       "      <th>wrote</th>\n",
       "      <th>year</th>\n",
       "      <th>years</th>\n",
       "      <th>york</th>\n",
       "      <th>young</th>\n",
       "      <th>youth</th>\n",
       "      <th>zealand</th>\n",
       "    </tr>\n",
       "  </thead>\n",
       "  <tbody>\n",
       "    <tr>\n",
       "      <th>0</th>\n",
       "      <td>After a string of misfires, the UK musician’s ...</td>\n",
       "      <td>0</td>\n",
       "      <td>0</td>\n",
       "      <td>0</td>\n",
       "      <td>0</td>\n",
       "      <td>1</td>\n",
       "      <td>0</td>\n",
       "      <td>0</td>\n",
       "      <td>0</td>\n",
       "      <td>0</td>\n",
       "      <td>...</td>\n",
       "      <td>0</td>\n",
       "      <td>0</td>\n",
       "      <td>0</td>\n",
       "      <td>0</td>\n",
       "      <td>0</td>\n",
       "      <td>1</td>\n",
       "      <td>0</td>\n",
       "      <td>0</td>\n",
       "      <td>0</td>\n",
       "      <td>0</td>\n",
       "    </tr>\n",
       "    <tr>\n",
       "      <th>1</th>\n",
       "      <td>The Swedish minimalist composer David Wenngren...</td>\n",
       "      <td>0</td>\n",
       "      <td>0</td>\n",
       "      <td>0</td>\n",
       "      <td>0</td>\n",
       "      <td>0</td>\n",
       "      <td>0</td>\n",
       "      <td>0</td>\n",
       "      <td>0</td>\n",
       "      <td>0</td>\n",
       "      <td>...</td>\n",
       "      <td>0</td>\n",
       "      <td>0</td>\n",
       "      <td>0</td>\n",
       "      <td>0</td>\n",
       "      <td>0</td>\n",
       "      <td>0</td>\n",
       "      <td>0</td>\n",
       "      <td>0</td>\n",
       "      <td>0</td>\n",
       "      <td>0</td>\n",
       "    </tr>\n",
       "    <tr>\n",
       "      <th>2</th>\n",
       "      <td>On his latest solo record, the singer-songwrit...</td>\n",
       "      <td>0</td>\n",
       "      <td>0</td>\n",
       "      <td>0</td>\n",
       "      <td>1</td>\n",
       "      <td>0</td>\n",
       "      <td>0</td>\n",
       "      <td>0</td>\n",
       "      <td>0</td>\n",
       "      <td>0</td>\n",
       "      <td>...</td>\n",
       "      <td>0</td>\n",
       "      <td>0</td>\n",
       "      <td>0</td>\n",
       "      <td>0</td>\n",
       "      <td>0</td>\n",
       "      <td>0</td>\n",
       "      <td>0</td>\n",
       "      <td>0</td>\n",
       "      <td>0</td>\n",
       "      <td>0</td>\n",
       "    </tr>\n",
       "    <tr>\n",
       "      <th>3</th>\n",
       "      <td>The funky and hypnotic fourth album from the C...</td>\n",
       "      <td>0</td>\n",
       "      <td>0</td>\n",
       "      <td>0</td>\n",
       "      <td>0</td>\n",
       "      <td>0</td>\n",
       "      <td>0</td>\n",
       "      <td>0</td>\n",
       "      <td>0</td>\n",
       "      <td>0</td>\n",
       "      <td>...</td>\n",
       "      <td>0</td>\n",
       "      <td>0</td>\n",
       "      <td>0</td>\n",
       "      <td>0</td>\n",
       "      <td>0</td>\n",
       "      <td>0</td>\n",
       "      <td>0</td>\n",
       "      <td>0</td>\n",
       "      <td>0</td>\n",
       "      <td>0</td>\n",
       "    </tr>\n",
       "    <tr>\n",
       "      <th>4</th>\n",
       "      <td>The NYC rapper YL’s music is full of slice-of-...</td>\n",
       "      <td>0</td>\n",
       "      <td>0</td>\n",
       "      <td>0</td>\n",
       "      <td>0</td>\n",
       "      <td>0</td>\n",
       "      <td>0</td>\n",
       "      <td>0</td>\n",
       "      <td>0</td>\n",
       "      <td>0</td>\n",
       "      <td>...</td>\n",
       "      <td>0</td>\n",
       "      <td>0</td>\n",
       "      <td>0</td>\n",
       "      <td>0</td>\n",
       "      <td>0</td>\n",
       "      <td>0</td>\n",
       "      <td>0</td>\n",
       "      <td>0</td>\n",
       "      <td>1</td>\n",
       "      <td>0</td>\n",
       "    </tr>\n",
       "  </tbody>\n",
       "</table>\n",
       "<p>5 rows × 1322 columns</p>\n",
       "</div>"
      ],
      "text/plain": [
       "                                     review_abstract  self-titled  sophomore  \\\n",
       "0  After a string of misfires, the UK musician’s ...            0          0   \n",
       "1  The Swedish minimalist composer David Wenngren...            0          0   \n",
       "2  On his latest solo record, the singer-songwrit...            0          0   \n",
       "3  The funky and hypnotic fourth album from the C...            0          0   \n",
       "4  The NYC rapper YL’s music is full of slice-of-...            0          0   \n",
       "\n",
       "   EP  high  genre_Electronic  genre_ElectronicExperimental  \\\n",
       "0   0     0                 1                             0   \n",
       "1   0     0                 0                             0   \n",
       "2   0     1                 0                             0   \n",
       "3   0     0                 0                             0   \n",
       "4   0     0                 0                             0   \n",
       "\n",
       "   genre_ElectronicExperimentalFolk/Country  \\\n",
       "0                                         0   \n",
       "1                                         0   \n",
       "2                                         0   \n",
       "3                                         0   \n",
       "4                                         0   \n",
       "\n",
       "   genre_ElectronicExperimentalPop/R&B  genre_ElectronicExperimentalRock  ...  \\\n",
       "0                                    0                                 0  ...   \n",
       "1                                    0                                 0  ...   \n",
       "2                                    0                                 0  ...   \n",
       "3                                    0                                 0  ...   \n",
       "4                                    0                                 0  ...   \n",
       "\n",
       "   worth  writing  written  wrote  year  years  york  young  youth  zealand  \n",
       "0      0        0        0      0     0      1     0      0      0        0  \n",
       "1      0        0        0      0     0      0     0      0      0        0  \n",
       "2      0        0        0      0     0      0     0      0      0        0  \n",
       "3      0        0        0      0     0      0     0      0      0        0  \n",
       "4      0        0        0      0     0      0     0      0      1        0  \n",
       "\n",
       "[5 rows x 1322 columns]"
      ]
     },
     "execution_count": 237,
     "metadata": {},
     "output_type": "execute_result"
    }
   ],
   "source": [
    "df.head()"
   ]
  },
  {
   "cell_type": "markdown",
   "metadata": {},
   "source": [
    "Create X and y variables"
   ]
  },
  {
   "cell_type": "code",
   "execution_count": 238,
   "metadata": {},
   "outputs": [],
   "source": [
    "X = df.drop(['high'], axis=1)\n",
    "y = df['high']"
   ]
  },
  {
   "cell_type": "code",
   "execution_count": 239,
   "metadata": {},
   "outputs": [
    {
     "data": {
      "text/html": [
       "<div>\n",
       "<style scoped>\n",
       "    .dataframe tbody tr th:only-of-type {\n",
       "        vertical-align: middle;\n",
       "    }\n",
       "\n",
       "    .dataframe tbody tr th {\n",
       "        vertical-align: top;\n",
       "    }\n",
       "\n",
       "    .dataframe thead th {\n",
       "        text-align: right;\n",
       "    }\n",
       "</style>\n",
       "<table border=\"1\" class=\"dataframe\">\n",
       "  <thead>\n",
       "    <tr style=\"text-align: right;\">\n",
       "      <th></th>\n",
       "      <th>review_abstract</th>\n",
       "      <th>self-titled</th>\n",
       "      <th>sophomore</th>\n",
       "      <th>EP</th>\n",
       "      <th>high</th>\n",
       "      <th>genre_Electronic</th>\n",
       "      <th>genre_ElectronicExperimental</th>\n",
       "      <th>genre_ElectronicExperimentalFolk/Country</th>\n",
       "      <th>genre_ElectronicExperimentalPop/R&amp;B</th>\n",
       "      <th>genre_ElectronicExperimentalRock</th>\n",
       "      <th>...</th>\n",
       "      <th>worth</th>\n",
       "      <th>writing</th>\n",
       "      <th>written</th>\n",
       "      <th>wrote</th>\n",
       "      <th>year</th>\n",
       "      <th>years</th>\n",
       "      <th>york</th>\n",
       "      <th>young</th>\n",
       "      <th>youth</th>\n",
       "      <th>zealand</th>\n",
       "    </tr>\n",
       "  </thead>\n",
       "  <tbody>\n",
       "    <tr>\n",
       "      <th>0</th>\n",
       "      <td>After a string of misfires, the UK musician’s ...</td>\n",
       "      <td>0</td>\n",
       "      <td>0</td>\n",
       "      <td>0</td>\n",
       "      <td>0</td>\n",
       "      <td>1</td>\n",
       "      <td>0</td>\n",
       "      <td>0</td>\n",
       "      <td>0</td>\n",
       "      <td>0</td>\n",
       "      <td>...</td>\n",
       "      <td>0</td>\n",
       "      <td>0</td>\n",
       "      <td>0</td>\n",
       "      <td>0</td>\n",
       "      <td>0</td>\n",
       "      <td>1</td>\n",
       "      <td>0</td>\n",
       "      <td>0</td>\n",
       "      <td>0</td>\n",
       "      <td>0</td>\n",
       "    </tr>\n",
       "    <tr>\n",
       "      <th>1</th>\n",
       "      <td>The Swedish minimalist composer David Wenngren...</td>\n",
       "      <td>0</td>\n",
       "      <td>0</td>\n",
       "      <td>0</td>\n",
       "      <td>0</td>\n",
       "      <td>0</td>\n",
       "      <td>0</td>\n",
       "      <td>0</td>\n",
       "      <td>0</td>\n",
       "      <td>0</td>\n",
       "      <td>...</td>\n",
       "      <td>0</td>\n",
       "      <td>0</td>\n",
       "      <td>0</td>\n",
       "      <td>0</td>\n",
       "      <td>0</td>\n",
       "      <td>0</td>\n",
       "      <td>0</td>\n",
       "      <td>0</td>\n",
       "      <td>0</td>\n",
       "      <td>0</td>\n",
       "    </tr>\n",
       "    <tr>\n",
       "      <th>2</th>\n",
       "      <td>On his latest solo record, the singer-songwrit...</td>\n",
       "      <td>0</td>\n",
       "      <td>0</td>\n",
       "      <td>0</td>\n",
       "      <td>1</td>\n",
       "      <td>0</td>\n",
       "      <td>0</td>\n",
       "      <td>0</td>\n",
       "      <td>0</td>\n",
       "      <td>0</td>\n",
       "      <td>...</td>\n",
       "      <td>0</td>\n",
       "      <td>0</td>\n",
       "      <td>0</td>\n",
       "      <td>0</td>\n",
       "      <td>0</td>\n",
       "      <td>0</td>\n",
       "      <td>0</td>\n",
       "      <td>0</td>\n",
       "      <td>0</td>\n",
       "      <td>0</td>\n",
       "    </tr>\n",
       "    <tr>\n",
       "      <th>3</th>\n",
       "      <td>The funky and hypnotic fourth album from the C...</td>\n",
       "      <td>0</td>\n",
       "      <td>0</td>\n",
       "      <td>0</td>\n",
       "      <td>0</td>\n",
       "      <td>0</td>\n",
       "      <td>0</td>\n",
       "      <td>0</td>\n",
       "      <td>0</td>\n",
       "      <td>0</td>\n",
       "      <td>...</td>\n",
       "      <td>0</td>\n",
       "      <td>0</td>\n",
       "      <td>0</td>\n",
       "      <td>0</td>\n",
       "      <td>0</td>\n",
       "      <td>0</td>\n",
       "      <td>0</td>\n",
       "      <td>0</td>\n",
       "      <td>0</td>\n",
       "      <td>0</td>\n",
       "    </tr>\n",
       "    <tr>\n",
       "      <th>4</th>\n",
       "      <td>The NYC rapper YL’s music is full of slice-of-...</td>\n",
       "      <td>0</td>\n",
       "      <td>0</td>\n",
       "      <td>0</td>\n",
       "      <td>0</td>\n",
       "      <td>0</td>\n",
       "      <td>0</td>\n",
       "      <td>0</td>\n",
       "      <td>0</td>\n",
       "      <td>0</td>\n",
       "      <td>...</td>\n",
       "      <td>0</td>\n",
       "      <td>0</td>\n",
       "      <td>0</td>\n",
       "      <td>0</td>\n",
       "      <td>0</td>\n",
       "      <td>0</td>\n",
       "      <td>0</td>\n",
       "      <td>0</td>\n",
       "      <td>1</td>\n",
       "      <td>0</td>\n",
       "    </tr>\n",
       "  </tbody>\n",
       "</table>\n",
       "<p>5 rows × 1322 columns</p>\n",
       "</div>"
      ],
      "text/plain": [
       "                                     review_abstract  self-titled  sophomore  \\\n",
       "0  After a string of misfires, the UK musician’s ...            0          0   \n",
       "1  The Swedish minimalist composer David Wenngren...            0          0   \n",
       "2  On his latest solo record, the singer-songwrit...            0          0   \n",
       "3  The funky and hypnotic fourth album from the C...            0          0   \n",
       "4  The NYC rapper YL’s music is full of slice-of-...            0          0   \n",
       "\n",
       "   EP  high  genre_Electronic  genre_ElectronicExperimental  \\\n",
       "0   0     0                 1                             0   \n",
       "1   0     0                 0                             0   \n",
       "2   0     1                 0                             0   \n",
       "3   0     0                 0                             0   \n",
       "4   0     0                 0                             0   \n",
       "\n",
       "   genre_ElectronicExperimentalFolk/Country  \\\n",
       "0                                         0   \n",
       "1                                         0   \n",
       "2                                         0   \n",
       "3                                         0   \n",
       "4                                         0   \n",
       "\n",
       "   genre_ElectronicExperimentalPop/R&B  genre_ElectronicExperimentalRock  ...  \\\n",
       "0                                    0                                 0  ...   \n",
       "1                                    0                                 0  ...   \n",
       "2                                    0                                 0  ...   \n",
       "3                                    0                                 0  ...   \n",
       "4                                    0                                 0  ...   \n",
       "\n",
       "   worth  writing  written  wrote  year  years  york  young  youth  zealand  \n",
       "0      0        0        0      0     0      1     0      0      0        0  \n",
       "1      0        0        0      0     0      0     0      0      0        0  \n",
       "2      0        0        0      0     0      0     0      0      0        0  \n",
       "3      0        0        0      0     0      0     0      0      0        0  \n",
       "4      0        0        0      0     0      0     0      0      1        0  \n",
       "\n",
       "[5 rows x 1322 columns]"
      ]
     },
     "execution_count": 239,
     "metadata": {},
     "output_type": "execute_result"
    }
   ],
   "source": [
    "df.head()"
   ]
  },
  {
   "cell_type": "code",
   "execution_count": 240,
   "metadata": {},
   "outputs": [],
   "source": [
    "#Drop score-related columns from X\n",
    "X = X.drop(columns=['target_high', 'target_medium', 'target_low'])"
   ]
  },
  {
   "cell_type": "code",
   "execution_count": 241,
   "metadata": {},
   "outputs": [],
   "source": [
    "X_abstract = X['review_abstract']"
   ]
  },
  {
   "cell_type": "code",
   "execution_count": 242,
   "metadata": {},
   "outputs": [],
   "source": [
    "#Drop review_abstract from X\n",
    "X = X.drop(columns=['review_abstract'], axis=1)"
   ]
  },
  {
   "cell_type": "code",
   "execution_count": 243,
   "metadata": {
    "scrolled": true
   },
   "outputs": [
    {
     "data": {
      "text/plain": [
       "(10568, 1317)"
      ]
     },
     "execution_count": 243,
     "metadata": {},
     "output_type": "execute_result"
    }
   ],
   "source": [
    "X.shape"
   ]
  },
  {
   "cell_type": "code",
   "execution_count": 244,
   "metadata": {},
   "outputs": [],
   "source": [
    "#Create train and test sets\n",
    "X_train, X_test, y_train, y_test = train_test_split(X, y, test_size=0.30, random_state=23)"
   ]
  },
  {
   "cell_type": "code",
   "execution_count": 245,
   "metadata": {},
   "outputs": [
    {
     "data": {
      "text/plain": [
       "{0: 5932, 1: 1465}"
      ]
     },
     "execution_count": 245,
     "metadata": {},
     "output_type": "execute_result"
    }
   ],
   "source": [
    "#Check for inbalance in y data.\n",
    "unique, count = np.unique(y_train, return_counts=True)\n",
    "y_train_dict = {k:v for(k,v) in zip(unique,count)}\n",
    "y_train_dict"
   ]
  },
  {
   "cell_type": "code",
   "execution_count": 246,
   "metadata": {},
   "outputs": [
    {
     "data": {
      "text/html": [
       "<div>\n",
       "<style scoped>\n",
       "    .dataframe tbody tr th:only-of-type {\n",
       "        vertical-align: middle;\n",
       "    }\n",
       "\n",
       "    .dataframe tbody tr th {\n",
       "        vertical-align: top;\n",
       "    }\n",
       "\n",
       "    .dataframe thead th {\n",
       "        text-align: right;\n",
       "    }\n",
       "</style>\n",
       "<table border=\"1\" class=\"dataframe\">\n",
       "  <thead>\n",
       "    <tr style=\"text-align: right;\">\n",
       "      <th></th>\n",
       "      <th>self-titled</th>\n",
       "      <th>sophomore</th>\n",
       "      <th>EP</th>\n",
       "      <th>genre_Electronic</th>\n",
       "      <th>genre_ElectronicExperimental</th>\n",
       "      <th>genre_ElectronicExperimentalFolk/Country</th>\n",
       "      <th>genre_ElectronicExperimentalPop/R&amp;B</th>\n",
       "      <th>genre_ElectronicExperimentalRock</th>\n",
       "      <th>genre_ElectronicFolk/Country</th>\n",
       "      <th>genre_ElectronicGlobal</th>\n",
       "      <th>...</th>\n",
       "      <th>worth</th>\n",
       "      <th>writing</th>\n",
       "      <th>written</th>\n",
       "      <th>wrote</th>\n",
       "      <th>year</th>\n",
       "      <th>years</th>\n",
       "      <th>york</th>\n",
       "      <th>young</th>\n",
       "      <th>youth</th>\n",
       "      <th>zealand</th>\n",
       "    </tr>\n",
       "  </thead>\n",
       "  <tbody>\n",
       "    <tr>\n",
       "      <th>678</th>\n",
       "      <td>0</td>\n",
       "      <td>0</td>\n",
       "      <td>0</td>\n",
       "      <td>0</td>\n",
       "      <td>0</td>\n",
       "      <td>0</td>\n",
       "      <td>0</td>\n",
       "      <td>0</td>\n",
       "      <td>0</td>\n",
       "      <td>0</td>\n",
       "      <td>...</td>\n",
       "      <td>0</td>\n",
       "      <td>0</td>\n",
       "      <td>0</td>\n",
       "      <td>0</td>\n",
       "      <td>0</td>\n",
       "      <td>0</td>\n",
       "      <td>0</td>\n",
       "      <td>0</td>\n",
       "      <td>0</td>\n",
       "      <td>0</td>\n",
       "    </tr>\n",
       "    <tr>\n",
       "      <th>2573</th>\n",
       "      <td>0</td>\n",
       "      <td>0</td>\n",
       "      <td>0</td>\n",
       "      <td>0</td>\n",
       "      <td>0</td>\n",
       "      <td>0</td>\n",
       "      <td>0</td>\n",
       "      <td>0</td>\n",
       "      <td>0</td>\n",
       "      <td>0</td>\n",
       "      <td>...</td>\n",
       "      <td>0</td>\n",
       "      <td>0</td>\n",
       "      <td>0</td>\n",
       "      <td>0</td>\n",
       "      <td>0</td>\n",
       "      <td>0</td>\n",
       "      <td>0</td>\n",
       "      <td>0</td>\n",
       "      <td>0</td>\n",
       "      <td>0</td>\n",
       "    </tr>\n",
       "    <tr>\n",
       "      <th>1584</th>\n",
       "      <td>0</td>\n",
       "      <td>0</td>\n",
       "      <td>0</td>\n",
       "      <td>0</td>\n",
       "      <td>0</td>\n",
       "      <td>0</td>\n",
       "      <td>0</td>\n",
       "      <td>0</td>\n",
       "      <td>0</td>\n",
       "      <td>0</td>\n",
       "      <td>...</td>\n",
       "      <td>0</td>\n",
       "      <td>0</td>\n",
       "      <td>0</td>\n",
       "      <td>0</td>\n",
       "      <td>0</td>\n",
       "      <td>0</td>\n",
       "      <td>0</td>\n",
       "      <td>0</td>\n",
       "      <td>0</td>\n",
       "      <td>0</td>\n",
       "    </tr>\n",
       "    <tr>\n",
       "      <th>7312</th>\n",
       "      <td>0</td>\n",
       "      <td>0</td>\n",
       "      <td>0</td>\n",
       "      <td>0</td>\n",
       "      <td>0</td>\n",
       "      <td>0</td>\n",
       "      <td>0</td>\n",
       "      <td>0</td>\n",
       "      <td>0</td>\n",
       "      <td>0</td>\n",
       "      <td>...</td>\n",
       "      <td>0</td>\n",
       "      <td>0</td>\n",
       "      <td>0</td>\n",
       "      <td>0</td>\n",
       "      <td>0</td>\n",
       "      <td>0</td>\n",
       "      <td>0</td>\n",
       "      <td>2</td>\n",
       "      <td>0</td>\n",
       "      <td>0</td>\n",
       "    </tr>\n",
       "    <tr>\n",
       "      <th>836</th>\n",
       "      <td>0</td>\n",
       "      <td>0</td>\n",
       "      <td>1</td>\n",
       "      <td>0</td>\n",
       "      <td>0</td>\n",
       "      <td>0</td>\n",
       "      <td>0</td>\n",
       "      <td>0</td>\n",
       "      <td>0</td>\n",
       "      <td>0</td>\n",
       "      <td>...</td>\n",
       "      <td>0</td>\n",
       "      <td>0</td>\n",
       "      <td>0</td>\n",
       "      <td>0</td>\n",
       "      <td>0</td>\n",
       "      <td>0</td>\n",
       "      <td>0</td>\n",
       "      <td>0</td>\n",
       "      <td>0</td>\n",
       "      <td>0</td>\n",
       "    </tr>\n",
       "  </tbody>\n",
       "</table>\n",
       "<p>5 rows × 1317 columns</p>\n",
       "</div>"
      ],
      "text/plain": [
       "      self-titled  sophomore  EP  genre_Electronic  \\\n",
       "678             0          0   0                 0   \n",
       "2573            0          0   0                 0   \n",
       "1584            0          0   0                 0   \n",
       "7312            0          0   0                 0   \n",
       "836             0          0   1                 0   \n",
       "\n",
       "      genre_ElectronicExperimental  genre_ElectronicExperimentalFolk/Country  \\\n",
       "678                              0                                         0   \n",
       "2573                             0                                         0   \n",
       "1584                             0                                         0   \n",
       "7312                             0                                         0   \n",
       "836                              0                                         0   \n",
       "\n",
       "      genre_ElectronicExperimentalPop/R&B  genre_ElectronicExperimentalRock  \\\n",
       "678                                     0                                 0   \n",
       "2573                                    0                                 0   \n",
       "1584                                    0                                 0   \n",
       "7312                                    0                                 0   \n",
       "836                                     0                                 0   \n",
       "\n",
       "      genre_ElectronicFolk/Country  genre_ElectronicGlobal  ...  worth  \\\n",
       "678                              0                       0  ...      0   \n",
       "2573                             0                       0  ...      0   \n",
       "1584                             0                       0  ...      0   \n",
       "7312                             0                       0  ...      0   \n",
       "836                              0                       0  ...      0   \n",
       "\n",
       "      writing  written  wrote  year  years  york  young  youth  zealand  \n",
       "678         0        0      0     0      0     0      0      0        0  \n",
       "2573        0        0      0     0      0     0      0      0        0  \n",
       "1584        0        0      0     0      0     0      0      0        0  \n",
       "7312        0        0      0     0      0     0      2      0        0  \n",
       "836         0        0      0     0      0     0      0      0        0  \n",
       "\n",
       "[5 rows x 1317 columns]"
      ]
     },
     "execution_count": 246,
     "metadata": {},
     "output_type": "execute_result"
    }
   ],
   "source": [
    "X_train.head()"
   ]
  },
  {
   "cell_type": "markdown",
   "metadata": {},
   "source": [
    "**Model Creation**"
   ]
  },
  {
   "cell_type": "markdown",
   "metadata": {},
   "source": [
    "Random Forest"
   ]
  },
  {
   "cell_type": "code",
   "execution_count": 247,
   "metadata": {},
   "outputs": [
    {
     "name": "stdout",
     "output_type": "stream",
     "text": [
      "0.8246609902239042\n"
     ]
    }
   ],
   "source": [
    "base_rf = RandomForestClassifier()\n",
    "base_rf.fit(X_train, y_train)\n",
    "pred_rf = base_rf.predict(X_test)\n",
    "print(accuracy_score(y_test, pred_rf))"
   ]
  },
  {
   "cell_type": "code",
   "execution_count": 248,
   "metadata": {},
   "outputs": [
    {
     "data": {
      "text/plain": [
       "RandomForestClassifier(criterion='entropy', max_depth=50, max_features='sqrt',\n",
       "                       min_samples_split=6)"
      ]
     },
     "execution_count": 248,
     "metadata": {},
     "output_type": "execute_result"
    }
   ],
   "source": [
    "#Create and gridsearch a random forest model for the data.\n",
    "clf = RandomForestClassifier()\n",
    "\n",
    "parameters = {'n_estimators': [100], \n",
    "              'max_features': ['sqrt'], \n",
    "              'criterion': ['entropy'],\n",
    "              'max_depth': [50], \n",
    "              'min_samples_split': [6],\n",
    "              'min_samples_leaf': [1],\n",
    "             }\n",
    "\n",
    "roc_auc = make_scorer(roc_auc_score)\n",
    "\n",
    "grid_obj = GridSearchCV(clf, parameters, scoring=roc_auc)\n",
    "grid_obj = grid_obj.fit(X_train, y_train)\n",
    "\n",
    "clf = grid_obj.best_estimator_\n",
    "\n",
    "clf.fit(X_train, y_train)"
   ]
  },
  {
   "cell_type": "code",
   "execution_count": 249,
   "metadata": {},
   "outputs": [
    {
     "name": "stdout",
     "output_type": "stream",
     "text": [
      "0.8227688426363923\n"
     ]
    }
   ],
   "source": [
    "#Predict on model and get accuracy score\n",
    "predictions_rf = clf.predict(X_test)\n",
    "print(accuracy_score(y_test, predictions_rf))"
   ]
  },
  {
   "cell_type": "code",
   "execution_count": 250,
   "metadata": {},
   "outputs": [
    {
     "data": {
      "text/plain": [
       "array([[2525,   24],\n",
       "       [ 538,   84]], dtype=int64)"
      ]
     },
     "execution_count": 250,
     "metadata": {},
     "output_type": "execute_result"
    }
   ],
   "source": [
    "#Random forest confusion matrix\n",
    "confusion_matrix(y_test, predictions_rf)"
   ]
  },
  {
   "cell_type": "code",
   "execution_count": 251,
   "metadata": {},
   "outputs": [
    {
     "name": "stdout",
     "output_type": "stream",
     "text": [
      "              precision    recall  f1-score   support\n",
      "\n",
      "           0       0.82      0.99      0.90      2549\n",
      "           1       0.78      0.14      0.23       622\n",
      "\n",
      "    accuracy                           0.82      3171\n",
      "   macro avg       0.80      0.56      0.56      3171\n",
      "weighted avg       0.82      0.82      0.77      3171\n",
      "\n"
     ]
    }
   ],
   "source": [
    "#Random forest classification report\n",
    "print(classification_report(y_test, predictions_rf))"
   ]
  },
  {
   "cell_type": "markdown",
   "metadata": {},
   "source": [
    "Logistic Regression"
   ]
  },
  {
   "cell_type": "code",
   "execution_count": 252,
   "metadata": {},
   "outputs": [
    {
     "name": "stdout",
     "output_type": "stream",
     "text": [
      "0.9082308420056765\n"
     ]
    }
   ],
   "source": [
    "base_lr = LogisticRegression()\n",
    "base_lr.fit(X_test, y_test)\n",
    "predictions_base = base_lr.predict(X_test)\n",
    "print(accuracy_score(y_test, predictions_base))"
   ]
  },
  {
   "cell_type": "code",
   "execution_count": 253,
   "metadata": {},
   "outputs": [
    {
     "data": {
      "text/plain": [
       "LogisticRegression(C=1, max_iter=250)"
      ]
     },
     "execution_count": 253,
     "metadata": {},
     "output_type": "execute_result"
    }
   ],
   "source": [
    "#Create and gridsearch logistic regression model\n",
    "lr = LogisticRegression()\n",
    "\n",
    "parameters = {'penalty': ['l2'],\n",
    "              'C': [1],\n",
    "              'random_state': [None],\n",
    "              'max_iter': [250],\n",
    "              'n_jobs': [None, 2]}\n",
    "\n",
    "roc_auc = make_scorer(roc_auc_score, greater_is_better=True,\n",
    "                                needs_threshold=True)\n",
    "grid_obj_lr = GridSearchCV(lr, parameters, scoring=roc_auc)\n",
    "grid_obj_lr = grid_obj_lr.fit(X_train, y_train)\n",
    "\n",
    "lr = grid_obj_lr.best_estimator_\n",
    "\n",
    "lr.fit(X_train, y_train)"
   ]
  },
  {
   "cell_type": "code",
   "execution_count": 83,
   "metadata": {},
   "outputs": [
    {
     "name": "stdout",
     "output_type": "stream",
     "text": [
      "0.8098391674550615\n"
     ]
    }
   ],
   "source": [
    "#Predict on logistic regression model and get accuracy score\n",
    "predictions_lr = lr.predict(X_test)\n",
    "print(accuracy_score(y_test, predictions_lr))"
   ]
  },
  {
   "cell_type": "code",
   "execution_count": 254,
   "metadata": {},
   "outputs": [
    {
     "data": {
      "text/plain": [
       "array([[2520,   29],\n",
       "       [ 262,  360]], dtype=int64)"
      ]
     },
     "execution_count": 254,
     "metadata": {},
     "output_type": "execute_result"
    }
   ],
   "source": [
    "#Logistic regression confusion matrix\n",
    "confusion_matrix(y_test, predictions_base)"
   ]
  },
  {
   "cell_type": "code",
   "execution_count": 255,
   "metadata": {},
   "outputs": [
    {
     "name": "stdout",
     "output_type": "stream",
     "text": [
      "              precision    recall  f1-score   support\n",
      "\n",
      "           0       0.91      0.99      0.95      2549\n",
      "           1       0.93      0.58      0.71       622\n",
      "\n",
      "    accuracy                           0.91      3171\n",
      "   macro avg       0.92      0.78      0.83      3171\n",
      "weighted avg       0.91      0.91      0.90      3171\n",
      "\n"
     ]
    }
   ],
   "source": [
    "#Logistic regression classification report\n",
    "print(classification_report(y_test, predictions_base))"
   ]
  },
  {
   "cell_type": "markdown",
   "metadata": {},
   "source": [
    "Naive Bayes"
   ]
  },
  {
   "cell_type": "code",
   "execution_count": 256,
   "metadata": {},
   "outputs": [],
   "source": [
    "#Create roc/auc scorer \n",
    "roc_auc = make_scorer(roc_auc_score, greater_is_better=True,\n",
    "                                 needs_threshold=True)"
   ]
  },
  {
   "cell_type": "code",
   "execution_count": 257,
   "metadata": {},
   "outputs": [],
   "source": [
    "X_abstract = scaled_df['review_abstract']"
   ]
  },
  {
   "cell_type": "code",
   "execution_count": 230,
   "metadata": {},
   "outputs": [
    {
     "data": {
      "text/plain": [
       "Pipeline(steps=[('cv', CountVectorizer(min_df=29)),\n",
       "                ('to_dense',\n",
       "                 <__main__.DenseTransformer object at 0x00000132934305F8>),\n",
       "                ('nb', GaussianNB())])"
      ]
     },
     "execution_count": 230,
     "metadata": {},
     "output_type": "execute_result"
    }
   ],
   "source": [
    "#Create and gridsearch Naive Bayes model\n",
    "cv = CountVectorizer()\n",
    "\n",
    "class DenseTransformer(TransformerMixin):\n",
    "\n",
    "    def fit(self, X_abstract, y=None, **fit_params):\n",
    "        return self\n",
    "\n",
    "    def transform(self, X_abstract, y=None, **fit_params):\n",
    "        return X_abstract.todense()\n",
    "\n",
    "dt = DenseTransformer()\n",
    "\n",
    "nb = GaussianNB()\n",
    "\n",
    "steps = [('cv', cv),\n",
    "         ('to_dense', dt),\n",
    "         ('nb', nb)]\n",
    "\n",
    "parameters = {'cv__min_df': range(5, 30)}\n",
    "#nb.fit(X_abstract, y)\n",
    "\n",
    "pipeline = Pipeline(steps)\n",
    "skf = StratifiedKFold(n_splits=5, shuffle=True, random_state =42)\n",
    "grid_obj_pipe = GridSearchCV(pipeline, parameters, scoring=roc_auc)\n",
    "grid_obj_fit = grid_obj_pipe.fit(X_train_abstract, y)\n",
    "\n",
    "grid_obj_best = grid_obj_fit.best_estimator_\n",
    "\n",
    "grid_obj_best.fit(X_abstract, y)"
   ]
  },
  {
   "cell_type": "code",
   "execution_count": 258,
   "metadata": {},
   "outputs": [
    {
     "data": {
      "text/plain": [
       "GaussianNB()"
      ]
     },
     "execution_count": 258,
     "metadata": {},
     "output_type": "execute_result"
    }
   ],
   "source": [
    "nb = GaussianNB()\n",
    "nb.fit(X_train, y_train)"
   ]
  },
  {
   "cell_type": "code",
   "execution_count": 259,
   "metadata": {},
   "outputs": [
    {
     "name": "stdout",
     "output_type": "stream",
     "text": [
      "0.3440555029959003\n"
     ]
    }
   ],
   "source": [
    "#Predict on Naive Bayes model and get accuracy score.\n",
    "predictions_nb = nb.predict(X_test)\n",
    "print(accuracy_score(y_test, predictions_nb))"
   ]
  },
  {
   "cell_type": "code",
   "execution_count": 260,
   "metadata": {},
   "outputs": [
    {
     "data": {
      "text/plain": [
       "array([[ 531, 2018],\n",
       "       [  62,  560]], dtype=int64)"
      ]
     },
     "execution_count": 260,
     "metadata": {},
     "output_type": "execute_result"
    }
   ],
   "source": [
    "#Naive Bayes confusion matrix\n",
    "confusion_matrix(y_test, predictions_nb)"
   ]
  },
  {
   "cell_type": "code",
   "execution_count": 261,
   "metadata": {},
   "outputs": [
    {
     "name": "stdout",
     "output_type": "stream",
     "text": [
      "              precision    recall  f1-score   support\n",
      "\n",
      "           0       0.90      0.21      0.34      2549\n",
      "           1       0.22      0.90      0.35       622\n",
      "\n",
      "    accuracy                           0.34      3171\n",
      "   macro avg       0.56      0.55      0.34      3171\n",
      "weighted avg       0.76      0.34      0.34      3171\n",
      "\n"
     ]
    }
   ],
   "source": [
    "#Naive Bayes classification report.\n",
    "print(classification_report(y_test, predictions_nb))"
   ]
  },
  {
   "cell_type": "markdown",
   "metadata": {},
   "source": [
    "**ROC Curve**"
   ]
  },
  {
   "cell_type": "code",
   "execution_count": 262,
   "metadata": {},
   "outputs": [],
   "source": [
    "#Predict probability of all three models.\n",
    "rf_probs = clf.predict_proba(X_test)\n",
    "nb_probs = nb.predict_proba(X_test)\n",
    "lr_probs = lr.predict_proba(X_test)"
   ]
  },
  {
   "cell_type": "code",
   "execution_count": 263,
   "metadata": {},
   "outputs": [],
   "source": [
    "#Get only prediction scores\n",
    "rf_probs = rf_probs[:, 1]\n",
    "nb_probs = nb_probs[:, 1]\n",
    "lr_probs = lr_probs[:, 1]"
   ]
  },
  {
   "cell_type": "code",
   "execution_count": 264,
   "metadata": {},
   "outputs": [],
   "source": [
    "#Get roc scores for each model\n",
    "rf_auc = roc_auc_score(y_test, rf_probs)\n",
    "nb_auc = roc_auc_score(y_test, nb_probs)\n",
    "lr_auc = roc_auc_score(y_test, lr_probs)"
   ]
  },
  {
   "cell_type": "code",
   "execution_count": 265,
   "metadata": {},
   "outputs": [],
   "source": [
    "#Retrieve false positive and true positive rates of each model\n",
    "rf_fpr, rf_tpr, _ = roc_curve(y_test, rf_probs)\n",
    "nb_fpr, nb_tpr, _ = roc_curve(y_test, nb_probs)\n",
    "lr_fpr, lr_tpr, _ = roc_curve(y_test, lr_probs)"
   ]
  },
  {
   "cell_type": "code",
   "execution_count": 266,
   "metadata": {},
   "outputs": [
    {
     "data": {
      "image/png": "[encoded data removed]",
      "text/plain": [
       "<Figure size 432x288 with 1 Axes>"
      ]
     },
     "metadata": {
      "needs_background": "light"
     },
     "output_type": "display_data"
    }
   ],
   "source": [
    "#Plot models.\n",
    "plt.plot(rf_fpr, rf_tpr, label='Random Forest (AUROC = %0.3f)' % rf_auc)\n",
    "plt.plot(nb_fpr, nb_tpr, label='Naive Bayes (AUROC = %0.3f)' % nb_auc)\n",
    "plt.plot(lr_fpr, lr_tpr, label='Logistic Regression (AUROC = %0.3f)' % lr_auc)\n",
    "\n",
    "# Title\n",
    "plt.title('ROC Plot')\n",
    "# Axis labels\n",
    "plt.xlabel('False Positive Rate')\n",
    "plt.ylabel('True Positive Rate')\n",
    "# Show legend\n",
    "plt.legend() # \n",
    "# Show no skill line\n",
    "plt.plot([0, 1], [0, 1], 'k--')\n",
    "# Show plot\n",
    "plt.show()"
   ]
  },
  {
   "cell_type": "code",
   "execution_count": 267,
   "metadata": {},
   "outputs": [
    {
     "name": "stdout",
     "output_type": "stream",
     "text": [
      "None\n"
     ]
    }
   ],
   "source": [
    "important_features = pd.Series(data=clf.feature_importances_,index=X.columns)\n",
    "print(important_features.sort_values(ascending=False,inplace=True))"
   ]
  },
  {
   "cell_type": "code",
   "execution_count": 268,
   "metadata": {},
   "outputs": [
    {
     "data": {
      "text/plain": [
       "word_count_scaled      0.028042\n",
       "reading_ease_scaled    0.021959\n",
       "reissued               0.013932\n",
       "pitchfork              0.013416\n",
       "box                    0.010193\n",
       "today                  0.007668\n",
       "eligible               0.006406\n",
       "remastered             0.006317\n",
       "reissue                0.006313\n",
       "albums                 0.006059\n",
       "dtype: float64"
      ]
     },
     "execution_count": 268,
     "metadata": {},
     "output_type": "execute_result"
    }
   ],
   "source": [
    "important_features.head(10)"
   ]
  },
  {
   "cell_type": "markdown",
   "metadata": {},
   "source": [
    "**Plot precision and recall curve**"
   ]
  },
  {
   "cell_type": "code",
   "execution_count": 273,
   "metadata": {},
   "outputs": [],
   "source": [
    "lr_probs = lr.predict_proba(X_test)\n",
    "# keep probabilities for the positive outcome only\n",
    "lr_probs = lr_probs[:, 1]"
   ]
  },
  {
   "cell_type": "code",
   "execution_count": 274,
   "metadata": {},
   "outputs": [
    {
     "data": {
      "text/plain": [
       "array([0, 0, 0, ..., 0, 0, 0])"
      ]
     },
     "execution_count": 274,
     "metadata": {},
     "output_type": "execute_result"
    }
   ],
   "source": [
    "np.where(lr_probs > 0.5, 1, 0)"
   ]
  },
  {
   "cell_type": "code",
   "execution_count": 275,
   "metadata": {},
   "outputs": [
    {
     "name": "stdout",
     "output_type": "stream",
     "text": [
      "              precision    recall  f1-score   support\n",
      "\n",
      "           0       0.85      0.93      0.89      2549\n",
      "           1       0.52      0.33      0.41       622\n",
      "\n",
      "    accuracy                           0.81      3171\n",
      "   macro avg       0.69      0.63      0.65      3171\n",
      "weighted avg       0.79      0.81      0.79      3171\n",
      "\n"
     ]
    }
   ],
   "source": [
    "print(classification_report(y_test, np.where(lr_probs > 0.5, 1, 0)))"
   ]
  },
  {
   "cell_type": "code",
   "execution_count": 276,
   "metadata": {},
   "outputs": [
    {
     "name": "stdout",
     "output_type": "stream",
     "text": [
      "              precision    recall  f1-score   support\n",
      "\n",
      "           0       0.81      1.00      0.89      2549\n",
      "           1       1.00      0.01      0.03       622\n",
      "\n",
      "    accuracy                           0.81      3171\n",
      "   macro avg       0.90      0.51      0.46      3171\n",
      "weighted avg       0.84      0.81      0.72      3171\n",
      "\n"
     ]
    }
   ],
   "source": [
    "print(classification_report(y_test, np.where(lr_probs > 0.99, 1, 0)))"
   ]
  },
  {
   "cell_type": "code",
   "execution_count": 277,
   "metadata": {},
   "outputs": [],
   "source": [
    "# calculate scores\n",
    "rf_auc = roc_auc_score(y_test, lr_probs)"
   ]
  },
  {
   "cell_type": "code",
   "execution_count": 278,
   "metadata": {},
   "outputs": [
    {
     "data": {
      "image/png": "[encoded data removed]",
      "text/plain": [
       "<Figure size 432x288 with 1 Axes>"
      ]
     },
     "metadata": {
      "needs_background": "light"
     },
     "output_type": "display_data"
    }
   ],
   "source": [
    "# predict probabilities\n",
    "yhat = lr.predict_proba(X_test)\n",
    "# keep probabilities for the positive outcome only\n",
    "yhat = yhat[:, 1]\n",
    "# calculate roc curves\n",
    "fpr, tpr, thresholds = roc_curve(y_test, yhat)\n",
    "# plot the roc curve for the model\n",
    "pyplot.plot([0,1], [0,1], linestyle='--', label='No Skill')\n",
    "pyplot.plot(fpr, tpr, label='Logistic Regression')\n",
    "# axis labels\n",
    "pyplot.xlabel('False Positive Rate')\n",
    "pyplot.ylabel('True Positive Rate')\n",
    "pyplot.legend()\n",
    "# show the plot\n",
    "pyplot.show()"
   ]
  },
  {
   "cell_type": "code",
   "execution_count": 279,
   "metadata": {},
   "outputs": [],
   "source": [
    "# calculate the g-mean for each threshold\n",
    "gmeans = np.sqrt(tpr * (1-fpr))"
   ]
  },
  {
   "cell_type": "code",
   "execution_count": 280,
   "metadata": {},
   "outputs": [
    {
     "name": "stdout",
     "output_type": "stream",
     "text": [
      "Best Threshold=0.164024, G-Mean=0.669\n"
     ]
    }
   ],
   "source": [
    "# locate the index of the largest g-mean\n",
    "ix = np.argmax(gmeans)\n",
    "print('Best Threshold=%f, G-Mean=%.3f' % (thresholds[ix], gmeans[ix]))"
   ]
  },
  {
   "cell_type": "code",
   "execution_count": 281,
   "metadata": {},
   "outputs": [
    {
     "name": "stdout",
     "output_type": "stream",
     "text": [
      "Best Threshold=0.208055\n"
     ]
    }
   ],
   "source": [
    "# calculate roc curves\n",
    "fpr, tpr, thresholds = roc_curve(y_test, yhat)\n",
    "# get the best threshold\n",
    "J = tpr - fpr\n",
    "ix = np.argmax(J)\n",
    "best_thresh = thresholds[ix]\n",
    "print('Best Threshold=%f' % (best_thresh))"
   ]
  },
  {
   "cell_type": "code",
   "execution_count": 282,
   "metadata": {},
   "outputs": [],
   "source": [
    "# calculate pr-curve\n",
    "precision, recall, thresholds = precision_recall_curve(y_test, yhat)"
   ]
  },
  {
   "cell_type": "code",
   "execution_count": 283,
   "metadata": {},
   "outputs": [
    {
     "data": {
      "image/png": "[encoded data removed]",
      "text/plain": [
       "<Figure size 432x288 with 1 Axes>"
      ]
     },
     "metadata": {
      "needs_background": "light"
     },
     "output_type": "display_data"
    }
   ],
   "source": [
    "# plot the roc curve for the model\n",
    "no_skill = len(y_test[y_test==1]) / len(y_test)\n",
    "pyplot.plot([0,1], [no_skill,no_skill], linestyle='--', label='No Skill')\n",
    "pyplot.plot(recall, precision, label='Logistic Regression')\n",
    "# axis labels\n",
    "pyplot.xlabel('Recall')\n",
    "pyplot.ylabel('Precision')\n",
    "pyplot.legend()\n",
    "# show the plot\n",
    "pyplot.show()"
   ]
  },
  {
   "cell_type": "code",
   "execution_count": 284,
   "metadata": {},
   "outputs": [
    {
     "name": "stdout",
     "output_type": "stream",
     "text": [
      "Best Threshold=0.300308, F-Score=0.465\n"
     ]
    }
   ],
   "source": [
    "# convert to f score\n",
    "fscore = (2 * precision * recall) / (precision + recall)\n",
    "# locate the index of the largest f score\n",
    "ix = np.argmax(fscore)\n",
    "print('Best Threshold=%f, F-Score=%.3f' % (thresholds[ix], fscore[ix]))"
   ]
  },
  {
   "cell_type": "code",
   "execution_count": 285,
   "metadata": {},
   "outputs": [
    {
     "name": "stdout",
     "output_type": "stream",
     "text": [
      "F-Score: 0.40591\n"
     ]
    }
   ],
   "source": [
    "# predict labels\n",
    "yhat = lr.predict(X_test)\n",
    "# evaluate the model\n",
    "score = f1_score(y_test, yhat)\n",
    "print('F-Score: %.5f' % score)"
   ]
  },
  {
   "cell_type": "code",
   "execution_count": 286,
   "metadata": {},
   "outputs": [],
   "source": [
    "# predict probabilities\n",
    "yhat = lr.predict_proba(X_test)"
   ]
  },
  {
   "cell_type": "code",
   "execution_count": 287,
   "metadata": {},
   "outputs": [],
   "source": [
    "# keep probabilities for the positive outcome only\n",
    "probs = yhat[:, 1]"
   ]
  },
  {
   "cell_type": "code",
   "execution_count": 288,
   "metadata": {},
   "outputs": [],
   "source": [
    "# define thresholds\n",
    "thresholds = np.arange(0, 1, 0.001)"
   ]
  },
  {
   "cell_type": "code",
   "execution_count": 289,
   "metadata": {},
   "outputs": [],
   "source": [
    "# apply threshold to positive probabilities to create labels\n",
    "def to_labels(pos_probs, threshold):\n",
    "    return (pos_probs >= threshold).astype('int')"
   ]
  },
  {
   "cell_type": "code",
   "execution_count": 290,
   "metadata": {},
   "outputs": [],
   "source": [
    "# evaluate each threshold\n",
    "scores = [f1_score(y_test, to_labels(probs, t)) for t in thresholds]"
   ]
  },
  {
   "cell_type": "code",
   "execution_count": 291,
   "metadata": {},
   "outputs": [
    {
     "name": "stdout",
     "output_type": "stream",
     "text": [
      "Threshold=0.300, F-Score=0.46436\n"
     ]
    }
   ],
   "source": [
    "# get best threshold\n",
    "ix = np.argmax(scores)\n",
    "print('Threshold=%.3f, F-Score=%.5f' % (thresholds[ix], scores[ix]))"
   ]
  },
  {
   "cell_type": "markdown",
   "metadata": {},
   "source": [
    "**Thresholding for balanced accuracy and f-beta.**"
   ]
  },
  {
   "cell_type": "code",
   "execution_count": 292,
   "metadata": {},
   "outputs": [],
   "source": [
    "def adjust_pred_prob(y_pred_prob, new_threshold):\n",
    "    \"\"\"Adjust predicted probabilities to match new threshold value\"\"\"\n",
    "    \n",
    "    return [1 if y >= new_threshold else 0 for y in y_pred_prob]"
   ]
  },
  {
   "cell_type": "code",
   "execution_count": 293,
   "metadata": {},
   "outputs": [],
   "source": [
    "lr_clf = lr.predict(X_test)"
   ]
  },
  {
   "cell_type": "code",
   "execution_count": 294,
   "metadata": {},
   "outputs": [
    {
     "data": {
      "text/plain": [
       "0.6289138039127633"
      ]
     },
     "execution_count": 294,
     "metadata": {},
     "output_type": "execute_result"
    }
   ],
   "source": [
    "balanced_accuracy_score(y_test, lr_clf)"
   ]
  },
  {
   "cell_type": "code",
   "execution_count": 295,
   "metadata": {},
   "outputs": [
    {
     "data": {
      "text/plain": [
       "0.8098391674550615"
      ]
     },
     "execution_count": 295,
     "metadata": {},
     "output_type": "execute_result"
    }
   ],
   "source": [
    "accuracy_score(y_test, lr_clf)"
   ]
  },
  {
   "cell_type": "code",
   "execution_count": 296,
   "metadata": {},
   "outputs": [
    {
     "data": {
      "text/plain": [
       "0.4694621695533273"
      ]
     },
     "execution_count": 296,
     "metadata": {},
     "output_type": "execute_result"
    }
   ],
   "source": [
    "fbeta_score(y_test, lr_clf, beta=0.5)"
   ]
  },
  {
   "cell_type": "code",
   "execution_count": 297,
   "metadata": {},
   "outputs": [],
   "source": [
    "thresholds=np.arange(0,1,.01)"
   ]
  },
  {
   "cell_type": "code",
   "execution_count": 298,
   "metadata": {},
   "outputs": [],
   "source": [
    "pred_prob_lr_clf = lr.predict_proba(X_test)[:,1]"
   ]
  },
  {
   "cell_type": "code",
   "execution_count": 299,
   "metadata": {},
   "outputs": [
    {
     "data": {
      "text/plain": [
       "3171"
      ]
     },
     "execution_count": 299,
     "metadata": {},
     "output_type": "execute_result"
    }
   ],
   "source": [
    "len(np.unique(pred_prob_lr_clf))"
   ]
  },
  {
   "cell_type": "code",
   "execution_count": 300,
   "metadata": {},
   "outputs": [],
   "source": [
    "accuracy_points = []\n",
    "\n",
    "for t in thresholds:\n",
    "        adjusted_y_pred = adjust_pred_prob(pred_prob_lr_clf, new_threshold=t)\n",
    "        new_balance = accuracy_score(y_test, adjusted_y_pred)\n",
    "        accuracy_points.append(new_balance)"
   ]
  },
  {
   "cell_type": "code",
   "execution_count": 301,
   "metadata": {},
   "outputs": [],
   "source": [
    "balanced_accuracy_points = []\n",
    "\n",
    "for t in thresholds:\n",
    "        adjusted_y_pred = adjust_pred_prob(pred_prob_lr_clf, new_threshold=t)\n",
    "        new_balance = balanced_accuracy_score(y_test, adjusted_y_pred)\n",
    "        balanced_accuracy_points.append(new_balance)"
   ]
  },
  {
   "cell_type": "code",
   "execution_count": 302,
   "metadata": {},
   "outputs": [],
   "source": [
    "fbeta_points = []\n",
    "\n",
    "for t in thresholds:\n",
    "        adjusted_y_pred = adjust_pred_prob(pred_prob_lr_clf, new_threshold=t)\n",
    "        new_balance = fbeta_score(y_test, adjusted_y_pred, beta=0.5)\n",
    "        fbeta_points.append(new_balance)"
   ]
  },
  {
   "cell_type": "code",
   "execution_count": 303,
   "metadata": {},
   "outputs": [
    {
     "data": {
      "text/plain": [
       "50"
      ]
     },
     "execution_count": 303,
     "metadata": {},
     "output_type": "execute_result"
    }
   ],
   "source": [
    "fbeta_points.index(max(fbeta_points))"
   ]
  },
  {
   "cell_type": "code",
   "execution_count": 304,
   "metadata": {},
   "outputs": [
    {
     "data": {
      "text/plain": [
       "0.5"
      ]
     },
     "execution_count": 304,
     "metadata": {},
     "output_type": "execute_result"
    }
   ],
   "source": [
    "thresholds[50]"
   ]
  },
  {
   "cell_type": "code",
   "execution_count": 305,
   "metadata": {},
   "outputs": [
    {
     "data": {
      "text/plain": [
       "30"
      ]
     },
     "execution_count": 305,
     "metadata": {},
     "output_type": "execute_result"
    }
   ],
   "source": [
    "balanced_accuracy_points.index(max(balanced_accuracy_points))"
   ]
  },
  {
   "cell_type": "code",
   "execution_count": 306,
   "metadata": {},
   "outputs": [
    {
     "data": {
      "text/plain": [
       "0.3"
      ]
     },
     "execution_count": 306,
     "metadata": {},
     "output_type": "execute_result"
    }
   ],
   "source": [
    "thresholds[30]"
   ]
  },
  {
   "cell_type": "markdown",
   "metadata": {},
   "source": [
    "Best threshhold for Precision / Recall Curve "
   ]
  },
  {
   "cell_type": "code",
   "execution_count": 307,
   "metadata": {},
   "outputs": [
    {
     "data": {
      "text/plain": [
       "<sklearn.metrics._plot.precision_recall_curve.PrecisionRecallDisplay at 0x1329a4ddfd0>"
      ]
     },
     "execution_count": 307,
     "metadata": {},
     "output_type": "execute_result"
    },
    {
     "data": {
      "image/png": "[encoded data removed]",
      "text/plain": [
       "<Figure size 432x288 with 1 Axes>"
      ]
     },
     "metadata": {
      "needs_background": "light"
     },
     "output_type": "display_data"
    }
   ],
   "source": [
    "plot_precision_recall_curve(lr, X_test, y_test, name = 'Logistic Regression')"
   ]
  },
  {
   "cell_type": "code",
   "execution_count": 308,
   "metadata": {},
   "outputs": [
    {
     "data": {
      "text/plain": [
       "<matplotlib.lines.Line2D at 0x13286058cf8>"
      ]
     },
     "execution_count": 308,
     "metadata": {},
     "output_type": "execute_result"
    },
    {
     "data": {
      "image/png": "[encoded data removed]",
      "text/plain": [
       "<Figure size 1440x576 with 2 Axes>"
      ]
     },
     "metadata": {
      "needs_background": "light"
     },
     "output_type": "display_data"
    }
   ],
   "source": [
    "fig, (plt2, plt1) = plt.subplots(1, 2, figsize=(20,8))\n",
    "\n",
    "#Plot optimal thresholds for f-beta and balanced accuracy\n",
    "plt2.plot(thresholds, accuracy_points, color='blue')\n",
    "plt2.plot(thresholds, balanced_accuracy_points, color='green')\n",
    "plt2.plot(thresholds, fbeta_points, color='red')\n",
    "plt2.set_title('Accuracy Curve')\n",
    "plt2.legend(('Accuracy', 'Balanced Accuracy', 'F-Beta'))\n",
    "plt2.set_xlabel('Threshold')\n",
    "plt2.axvline(x=.5, color='black')\n",
    "plt2.text(.48,.05,'Best Threshold F-Beta',rotation=90)\n",
    "plt2.axvline(x=.30, color='black')\n",
    "plt2.text(.28,.05,'Best Threshold Balanced Acc.',rotation=90)\n",
    "plt2.set_ylabel('Proportion')\n",
    "\n",
    "# plot the precision/recall curve for the model\n",
    "no_skill = len(y_test[y_test==1]) / len(y_test)\n",
    "plt1.plot([0,1], [no_skill,no_skill], linestyle='--', label='No Skill')\n",
    "plt1.plot(recall, precision, label='Logistic Regression')\n",
    "#plt1.scatter(recall[ix], precision[ix], marker='o', color='black', label='Best')\n",
    "# axis labels\n",
    "plt1.set_title('Precision vs Recall')\n",
    "plt1.set_xlabel('Recall')\n",
    "plt1.set_ylabel('Precision')\n",
    "plt1.legend()\n",
    "plt1.text(.43,.25,'Best Threshold',rotation=90)\n",
    "plt1.axvline(x = 0.45, color ='black') "
   ]
  },
  {
   "cell_type": "code",
   "execution_count": 309,
   "metadata": {},
   "outputs": [
    {
     "name": "stdout",
     "output_type": "stream",
     "text": [
      "              precision    recall  f1-score   support\n",
      "\n",
      "           0       0.85      0.91      0.88      2549\n",
      "           1       0.50      0.36      0.42       622\n",
      "\n",
      "    accuracy                           0.80      3171\n",
      "   macro avg       0.68      0.64      0.65      3171\n",
      "weighted avg       0.79      0.80      0.79      3171\n",
      "\n"
     ]
    }
   ],
   "source": [
    "print(classification_report(y_test, adjust_pred_prob(pred_prob_lr_clf, new_threshold=.45)))"
   ]
  },
  {
   "cell_type": "code",
   "execution_count": 310,
   "metadata": {},
   "outputs": [
    {
     "name": "stdout",
     "output_type": "stream",
     "text": [
      "              precision    recall  f1-score   support\n",
      "\n",
      "           0       0.88      0.74      0.81      2549\n",
      "           1       0.36      0.59      0.45       622\n",
      "\n",
      "    accuracy                           0.71      3171\n",
      "   macro avg       0.62      0.67      0.63      3171\n",
      "weighted avg       0.78      0.71      0.74      3171\n",
      "\n"
     ]
    }
   ],
   "source": [
    "print(classification_report(y_test, adjust_pred_prob(pred_prob_lr_clf, new_threshold=.21)))"
   ]
  },
  {
   "cell_type": "markdown",
   "metadata": {},
   "source": [
    "**Identifying and Analyzing Misclassifications**"
   ]
  },
  {
   "cell_type": "code",
   "execution_count": 311,
   "metadata": {},
   "outputs": [],
   "source": [
    "y_test_array = np.asarray(y_test)"
   ]
  },
  {
   "cell_type": "code",
   "execution_count": 312,
   "metadata": {},
   "outputs": [],
   "source": [
    "misclassified = [int(x) for x in [str(x)[1:-1] for x in np.argwhere(y_test_array != base_rf.predict(X_test)).tolist()]]"
   ]
  },
  {
   "cell_type": "code",
   "execution_count": 313,
   "metadata": {},
   "outputs": [],
   "source": [
    "ind_list = list(df.index)"
   ]
  },
  {
   "cell_type": "code",
   "execution_count": 314,
   "metadata": {},
   "outputs": [
    {
     "data": {
      "text/plain": [
       "[0, 6, 7, 10, 20, 24, 35, 37, 43, 48]"
      ]
     },
     "execution_count": 314,
     "metadata": {},
     "output_type": "execute_result"
    }
   ],
   "source": [
    "misclassified[:10]"
   ]
  },
  {
   "cell_type": "code",
   "execution_count": 315,
   "metadata": {},
   "outputs": [],
   "source": [
    "l = []\n",
    "for x in ind_list:\n",
    "    if x in misclassified:\n",
    "        l.append(1)\n",
    "    else:\n",
    "        l.append(0)\n",
    "original_df['misclassified'] = l"
   ]
  },
  {
   "cell_type": "code",
   "execution_count": 319,
   "metadata": {},
   "outputs": [],
   "source": [
    "misclassified_df = original_df[original_df['misclassified']==1]"
   ]
  },
  {
   "cell_type": "code",
   "execution_count": 342,
   "metadata": {},
   "outputs": [],
   "source": [
    "correct_df = original_df[original_df['misclassified']==0]"
   ]
  },
  {
   "cell_type": "code",
   "execution_count": 332,
   "metadata": {},
   "outputs": [
    {
     "data": {
      "text/html": [
       "<div>\n",
       "<style scoped>\n",
       "    .dataframe tbody tr th:only-of-type {\n",
       "        vertical-align: middle;\n",
       "    }\n",
       "\n",
       "    .dataframe tbody tr th {\n",
       "        vertical-align: top;\n",
       "    }\n",
       "\n",
       "    .dataframe thead th {\n",
       "        text-align: right;\n",
       "    }\n",
       "</style>\n",
       "<table border=\"1\" class=\"dataframe\">\n",
       "  <thead>\n",
       "    <tr style=\"text-align: right;\">\n",
       "      <th></th>\n",
       "      <th>author</th>\n",
       "      <th>artist</th>\n",
       "      <th>title</th>\n",
       "      <th>genre</th>\n",
       "      <th>date</th>\n",
       "      <th>review_abstract</th>\n",
       "      <th>score</th>\n",
       "      <th>page</th>\n",
       "      <th>target</th>\n",
       "      <th>year</th>\n",
       "      <th>month</th>\n",
       "      <th>self-titled</th>\n",
       "      <th>sophomore</th>\n",
       "      <th>EP</th>\n",
       "      <th>reading_ease</th>\n",
       "      <th>grade_level</th>\n",
       "      <th>word_count</th>\n",
       "      <th>high</th>\n",
       "      <th>misclassified</th>\n",
       "    </tr>\n",
       "  </thead>\n",
       "  <tbody>\n",
       "    <tr>\n",
       "      <th>0</th>\n",
       "      <td>Ben Cardew</td>\n",
       "      <td>Tricky</td>\n",
       "      <td>Fall to Pieces</td>\n",
       "      <td>Electronic</td>\n",
       "      <td>2020-09-05</td>\n",
       "      <td>After a string of misfires, the UK musician’s ...</td>\n",
       "      <td>7.6</td>\n",
       "      <td>1</td>\n",
       "      <td>medium</td>\n",
       "      <td>2020</td>\n",
       "      <td>September</td>\n",
       "      <td>0</td>\n",
       "      <td>0</td>\n",
       "      <td>0</td>\n",
       "      <td>56.59</td>\n",
       "      <td>11</td>\n",
       "      <td>23</td>\n",
       "      <td>0</td>\n",
       "      <td>1</td>\n",
       "    </tr>\n",
       "    <tr>\n",
       "      <th>6</th>\n",
       "      <td>Shannon J. Effinger</td>\n",
       "      <td>Jyoti</td>\n",
       "      <td>Mama, You Can Bet!</td>\n",
       "      <td>Jazz</td>\n",
       "      <td>2020-09-03</td>\n",
       "      <td>The third installment of Georgia Anne Muldrow’...</td>\n",
       "      <td>8.4</td>\n",
       "      <td>1</td>\n",
       "      <td>high</td>\n",
       "      <td>2020</td>\n",
       "      <td>September</td>\n",
       "      <td>0</td>\n",
       "      <td>0</td>\n",
       "      <td>0</td>\n",
       "      <td>35.61</td>\n",
       "      <td>15</td>\n",
       "      <td>27</td>\n",
       "      <td>1</td>\n",
       "      <td>1</td>\n",
       "    </tr>\n",
       "    <tr>\n",
       "      <th>7</th>\n",
       "      <td>Evan Rytlewski</td>\n",
       "      <td>Toots and the Maytals</td>\n",
       "      <td>Got to Be Tough</td>\n",
       "      <td>GlobalRock</td>\n",
       "      <td>2020-09-03</td>\n",
       "      <td>The reggae legend returns in force on his late...</td>\n",
       "      <td>6.5</td>\n",
       "      <td>1</td>\n",
       "      <td>medium</td>\n",
       "      <td>2020</td>\n",
       "      <td>September</td>\n",
       "      <td>0</td>\n",
       "      <td>0</td>\n",
       "      <td>0</td>\n",
       "      <td>42.72</td>\n",
       "      <td>12</td>\n",
       "      <td>20</td>\n",
       "      <td>0</td>\n",
       "      <td>1</td>\n",
       "    </tr>\n",
       "    <tr>\n",
       "      <th>10</th>\n",
       "      <td>Owen Myers</td>\n",
       "      <td>Dua LipaThe Blessed Madonna</td>\n",
       "      <td>Club Future Nostalgia</td>\n",
       "      <td>Pop/R&amp;BElectronic</td>\n",
       "      <td>2020-09-02</td>\n",
       "      <td>Packing 15 producers into 50 minutes, the fun ...</td>\n",
       "      <td>6.9</td>\n",
       "      <td>1</td>\n",
       "      <td>medium</td>\n",
       "      <td>2020</td>\n",
       "      <td>September</td>\n",
       "      <td>0</td>\n",
       "      <td>0</td>\n",
       "      <td>0</td>\n",
       "      <td>41.03</td>\n",
       "      <td>15</td>\n",
       "      <td>30</td>\n",
       "      <td>0</td>\n",
       "      <td>1</td>\n",
       "    </tr>\n",
       "    <tr>\n",
       "      <th>20</th>\n",
       "      <td>Rob Arcand</td>\n",
       "      <td>Knot</td>\n",
       "      <td>Knot</td>\n",
       "      <td>Rock</td>\n",
       "      <td>2020-08-31</td>\n",
       "      <td>The former members of Krill return with a slow...</td>\n",
       "      <td>6.9</td>\n",
       "      <td>2</td>\n",
       "      <td>medium</td>\n",
       "      <td>2020</td>\n",
       "      <td>August</td>\n",
       "      <td>1</td>\n",
       "      <td>0</td>\n",
       "      <td>0</td>\n",
       "      <td>63.70</td>\n",
       "      <td>8</td>\n",
       "      <td>32</td>\n",
       "      <td>0</td>\n",
       "      <td>1</td>\n",
       "    </tr>\n",
       "  </tbody>\n",
       "</table>\n",
       "</div>"
      ],
      "text/plain": [
       "                 author                       artist                  title  \\\n",
       "0            Ben Cardew                       Tricky         Fall to Pieces   \n",
       "6   Shannon J. Effinger                        Jyoti     Mama, You Can Bet!   \n",
       "7        Evan Rytlewski        Toots and the Maytals        Got to Be Tough   \n",
       "10          Owen Myers   Dua LipaThe Blessed Madonna  Club Future Nostalgia   \n",
       "20           Rob Arcand                         Knot                   Knot   \n",
       "\n",
       "                genre        date  \\\n",
       "0          Electronic  2020-09-05   \n",
       "6                Jazz  2020-09-03   \n",
       "7          GlobalRock  2020-09-03   \n",
       "10  Pop/R&BElectronic  2020-09-02   \n",
       "20               Rock  2020-08-31   \n",
       "\n",
       "                                      review_abstract  score  page  target  \\\n",
       "0   After a string of misfires, the UK musician’s ...    7.6     1  medium   \n",
       "6   The third installment of Georgia Anne Muldrow’...    8.4     1    high   \n",
       "7   The reggae legend returns in force on his late...    6.5     1  medium   \n",
       "10  Packing 15 producers into 50 minutes, the fun ...    6.9     1  medium   \n",
       "20  The former members of Krill return with a slow...    6.9     2  medium   \n",
       "\n",
       "    year      month  self-titled  sophomore  EP  reading_ease  grade_level  \\\n",
       "0   2020  September            0          0   0         56.59           11   \n",
       "6   2020  September            0          0   0         35.61           15   \n",
       "7   2020  September            0          0   0         42.72           12   \n",
       "10  2020  September            0          0   0         41.03           15   \n",
       "20  2020     August            1          0   0         63.70            8   \n",
       "\n",
       "    word_count  high  misclassified  \n",
       "0           23     0              1  \n",
       "6           27     1              1  \n",
       "7           20     0              1  \n",
       "10          30     0              1  \n",
       "20          32     0              1  "
      ]
     },
     "execution_count": 332,
     "metadata": {},
     "output_type": "execute_result"
    }
   ],
   "source": [
    "misclassified_df.head()"
   ]
  },
  {
   "cell_type": "code",
   "execution_count": 320,
   "metadata": {},
   "outputs": [
    {
     "data": {
      "text/plain": [
       "(556, 19)"
      ]
     },
     "execution_count": 320,
     "metadata": {},
     "output_type": "execute_result"
    }
   ],
   "source": [
    "misclassified_df.shape"
   ]
  },
  {
   "cell_type": "code",
   "execution_count": 343,
   "metadata": {},
   "outputs": [
    {
     "data": {
      "text/plain": [
       "7.169896124650447"
      ]
     },
     "execution_count": 343,
     "metadata": {},
     "output_type": "execute_result"
    }
   ],
   "source": [
    "np.mean(correct_df.score)"
   ]
  },
  {
   "cell_type": "code",
   "execution_count": 336,
   "metadata": {},
   "outputs": [
    {
     "data": {
      "text/plain": [
       "7.2597122302158255"
      ]
     },
     "execution_count": 336,
     "metadata": {},
     "output_type": "execute_result"
    }
   ],
   "source": [
    "np.mean(misclassified_df.score)"
   ]
  },
  {
   "cell_type": "code",
   "execution_count": 339,
   "metadata": {},
   "outputs": [
    {
     "data": {
      "text/plain": [
       "48.939604316546784"
      ]
     },
     "execution_count": 339,
     "metadata": {},
     "output_type": "execute_result"
    }
   ],
   "source": [
    "np.mean(misclassified_df.reading_ease)"
   ]
  },
  {
   "cell_type": "code",
   "execution_count": 344,
   "metadata": {},
   "outputs": [
    {
     "data": {
      "text/plain": [
       "51.23805533359974"
      ]
     },
     "execution_count": 344,
     "metadata": {},
     "output_type": "execute_result"
    }
   ],
   "source": [
    "np.mean(correct_df.reading_ease)"
   ]
  },
  {
   "cell_type": "code",
   "execution_count": 345,
   "metadata": {},
   "outputs": [],
   "source": [
    "a = correct_df['score']\n",
    "b = misclassified_df['score']"
   ]
  },
  {
   "cell_type": "code",
   "execution_count": 346,
   "metadata": {},
   "outputs": [
    {
     "name": "stdout",
     "output_type": "stream",
     "text": [
      "t = -1.980546868405461\n",
      "p = 0.04766800579222481\n"
     ]
    }
   ],
   "source": [
    "#t-test for scores\n",
    "t2, p2 = stats.ttest_ind(a,b)\n",
    "print(\"t = \" + str(t2))\n",
    "print(\"p = \" + str(p2))"
   ]
  },
  {
   "cell_type": "code",
   "execution_count": 347,
   "metadata": {},
   "outputs": [],
   "source": [
    "c = correct_df['reading_ease']\n",
    "d = misclassified_df['reading_ease']"
   ]
  },
  {
   "cell_type": "code",
   "execution_count": 348,
   "metadata": {},
   "outputs": [
    {
     "name": "stdout",
     "output_type": "stream",
     "text": [
      "t = 3.292167045101579\n",
      "p = 0.0009974486375497313\n"
     ]
    }
   ],
   "source": [
    "#t-test for reading ease\n",
    "t2, p2 = stats.ttest_ind(c,d)\n",
    "print(\"t = \" + str(t2))\n",
    "print(\"p = \" + str(p2))"
   ]
  },
  {
   "cell_type": "code",
   "execution_count": 349,
   "metadata": {},
   "outputs": [],
   "source": [
    "e = correct_df['word_count']\n",
    "f = misclassified_df['word_count']"
   ]
  },
  {
   "cell_type": "code",
   "execution_count": 350,
   "metadata": {},
   "outputs": [
    {
     "name": "stdout",
     "output_type": "stream",
     "text": [
      "t = 14.041732641689523\n",
      "p = 2.1674646683098242e-44\n"
     ]
    }
   ],
   "source": [
    "#t-test for word count\n",
    "t2, p2 = stats.ttest_ind(e,f)\n",
    "print(\"t = \" + str(t2))\n",
    "print(\"p = \" + str(p2))"
   ]
  }
 ],
 "metadata": {
  "kernelspec": {
   "display_name": "Python 3",
   "language": "python",
   "name": "python3"
  },
  "language_info": {
   "codemirror_mode": {
    "name": "ipython",
    "version": 3
   },
   "file_extension": ".py",
   "mimetype": "text/x-python",
   "name": "python",
   "nbconvert_exporter": "python",
   "pygments_lexer": "ipython3",
   "version": "3.6.5"
  }
 },
 "nbformat": 4,
 "nbformat_minor": 4
}
