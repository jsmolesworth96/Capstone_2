{
 "cells": [
  {
   "cell_type": "code",
   "execution_count": 1,
   "metadata": {
    "_cell_guid": "79c7e3d0-c299-4dcb-8224-4455121ee9b0",
    "_uuid": "d629ff2d2480ee46fbb7e2d37f6b5fab8052498a"
   },
   "outputs": [],
   "source": [
    "import pandas as pd\n",
    "import numpy as np\n",
    "from sklearn.preprocessing import StandardScaler\n",
    "from sklearn.model_selection import train_test_split\n",
    "from sklearn.ensemble import RandomForestClassifier\n",
    "from sklearn.metrics import make_scorer, accuracy_score\n",
    "from sklearn.model_selection import GridSearchCV\n",
    "from sklearn.metrics import roc_auc_score\n",
    "from sklearn.model_selection import KFold\n",
    "from sklearn.model_selection import ShuffleSplit\n",
    "from sklearn.metrics import confusion_matrix\n",
    "from sklearn.metrics import classification_report\n",
    "from sklearn.metrics import roc_curve, roc_auc_score\n",
    "from sklearn.naive_bayes import GaussianNB\n",
    "import matplotlib.pyplot as plt\n",
    "from imblearn.over_sampling import SMOTE\n",
    "from sklearn.pipeline import make_pipeline\n",
    "from sklearn.svm import SVC\n",
    "from sklearn.linear_model import LogisticRegression\n",
    "from sklearn import metrics\n",
    "from matplotlib import pyplot\n",
    "from sklearn.metrics import precision_recall_curve\n",
    "from sklearn.metrics import f1_score\n",
    "from sklearn.metrics import balanced_accuracy_score\n",
    "from sklearn.metrics import accuracy_score"
   ]
  },
  {
   "cell_type": "code",
   "execution_count": 2,
   "metadata": {},
   "outputs": [
    {
     "data": {
      "text/plain": [
       "(10568, 18)"
      ]
     },
     "execution_count": 2,
     "metadata": {},
     "output_type": "execute_result"
    }
   ],
   "source": [
    "df = pd.read_csv('data.csv')\n",
    "df.shape"
   ]
  },
  {
   "cell_type": "code",
   "execution_count": 3,
   "metadata": {},
   "outputs": [
    {
     "data": {
      "text/html": [
       "<div>\n",
       "<style scoped>\n",
       "    .dataframe tbody tr th:only-of-type {\n",
       "        vertical-align: middle;\n",
       "    }\n",
       "\n",
       "    .dataframe tbody tr th {\n",
       "        vertical-align: top;\n",
       "    }\n",
       "\n",
       "    .dataframe thead th {\n",
       "        text-align: right;\n",
       "    }\n",
       "</style>\n",
       "<table border=\"1\" class=\"dataframe\">\n",
       "  <thead>\n",
       "    <tr style=\"text-align: right;\">\n",
       "      <th></th>\n",
       "      <th>author</th>\n",
       "      <th>artist</th>\n",
       "      <th>title</th>\n",
       "      <th>genre</th>\n",
       "      <th>date</th>\n",
       "      <th>review_abstract</th>\n",
       "      <th>score</th>\n",
       "      <th>target</th>\n",
       "      <th>year</th>\n",
       "      <th>month</th>\n",
       "      <th>...</th>\n",
       "      <th>grade_level_22</th>\n",
       "      <th>grade_level_23</th>\n",
       "      <th>grade_level_24</th>\n",
       "      <th>grade_level_25</th>\n",
       "      <th>grade_level_26</th>\n",
       "      <th>grade_level_27</th>\n",
       "      <th>grade_level_28</th>\n",
       "      <th>grade_level_29</th>\n",
       "      <th>grade_level_31</th>\n",
       "      <th>grade_level_32</th>\n",
       "    </tr>\n",
       "  </thead>\n",
       "  <tbody>\n",
       "    <tr>\n",
       "      <th>0</th>\n",
       "      <td>Ben Cardew</td>\n",
       "      <td>Tricky</td>\n",
       "      <td>Fall to Pieces</td>\n",
       "      <td>Electronic</td>\n",
       "      <td>2020-09-05</td>\n",
       "      <td>After a string of misfires, the UK musician’s ...</td>\n",
       "      <td>7.6</td>\n",
       "      <td>medium</td>\n",
       "      <td>2020</td>\n",
       "      <td>September</td>\n",
       "      <td>...</td>\n",
       "      <td>0</td>\n",
       "      <td>0</td>\n",
       "      <td>0</td>\n",
       "      <td>0</td>\n",
       "      <td>0</td>\n",
       "      <td>0</td>\n",
       "      <td>0</td>\n",
       "      <td>0</td>\n",
       "      <td>0</td>\n",
       "      <td>0</td>\n",
       "    </tr>\n",
       "    <tr>\n",
       "      <th>1</th>\n",
       "      <td>Brian Howe</td>\n",
       "      <td>Library Tapes</td>\n",
       "      <td>The Quiet City</td>\n",
       "      <td>ElectronicRock</td>\n",
       "      <td>2020-09-05</td>\n",
       "      <td>The Swedish minimalist composer David Wenngren...</td>\n",
       "      <td>7.0</td>\n",
       "      <td>medium</td>\n",
       "      <td>2020</td>\n",
       "      <td>September</td>\n",
       "      <td>...</td>\n",
       "      <td>0</td>\n",
       "      <td>0</td>\n",
       "      <td>0</td>\n",
       "      <td>0</td>\n",
       "      <td>0</td>\n",
       "      <td>0</td>\n",
       "      <td>0</td>\n",
       "      <td>0</td>\n",
       "      <td>0</td>\n",
       "      <td>0</td>\n",
       "    </tr>\n",
       "    <tr>\n",
       "      <th>2</th>\n",
       "      <td>Mike Powell</td>\n",
       "      <td>Bill Callahan</td>\n",
       "      <td>Gold Record</td>\n",
       "      <td>Rock</td>\n",
       "      <td>2020-09-04</td>\n",
       "      <td>On his latest solo record, the singer-songwrit...</td>\n",
       "      <td>8.0</td>\n",
       "      <td>high</td>\n",
       "      <td>2020</td>\n",
       "      <td>September</td>\n",
       "      <td>...</td>\n",
       "      <td>0</td>\n",
       "      <td>0</td>\n",
       "      <td>0</td>\n",
       "      <td>0</td>\n",
       "      <td>0</td>\n",
       "      <td>0</td>\n",
       "      <td>0</td>\n",
       "      <td>0</td>\n",
       "      <td>0</td>\n",
       "      <td>0</td>\n",
       "    </tr>\n",
       "    <tr>\n",
       "      <th>3</th>\n",
       "      <td>Zach Schonfeld</td>\n",
       "      <td>Freak Heat Waves</td>\n",
       "      <td>Zap the Planet</td>\n",
       "      <td>RockExperimental</td>\n",
       "      <td>2020-09-04</td>\n",
       "      <td>The funky and hypnotic fourth album from the C...</td>\n",
       "      <td>7.8</td>\n",
       "      <td>medium</td>\n",
       "      <td>2020</td>\n",
       "      <td>September</td>\n",
       "      <td>...</td>\n",
       "      <td>0</td>\n",
       "      <td>0</td>\n",
       "      <td>0</td>\n",
       "      <td>0</td>\n",
       "      <td>0</td>\n",
       "      <td>0</td>\n",
       "      <td>0</td>\n",
       "      <td>0</td>\n",
       "      <td>0</td>\n",
       "      <td>0</td>\n",
       "    </tr>\n",
       "    <tr>\n",
       "      <th>4</th>\n",
       "      <td>Alphonse Pierre</td>\n",
       "      <td>YLZoomo</td>\n",
       "      <td>Born Again</td>\n",
       "      <td>Rap</td>\n",
       "      <td>2020-09-04</td>\n",
       "      <td>The NYC rapper YL’s music is full of slice-of-...</td>\n",
       "      <td>7.1</td>\n",
       "      <td>medium</td>\n",
       "      <td>2020</td>\n",
       "      <td>September</td>\n",
       "      <td>...</td>\n",
       "      <td>0</td>\n",
       "      <td>0</td>\n",
       "      <td>0</td>\n",
       "      <td>0</td>\n",
       "      <td>0</td>\n",
       "      <td>0</td>\n",
       "      <td>0</td>\n",
       "      <td>0</td>\n",
       "      <td>0</td>\n",
       "      <td>0</td>\n",
       "    </tr>\n",
       "  </tbody>\n",
       "</table>\n",
       "<p>5 rows × 178 columns</p>\n",
       "</div>"
      ],
      "text/plain": [
       "            author            artist           title             genre  \\\n",
       "0       Ben Cardew            Tricky  Fall to Pieces        Electronic   \n",
       "1       Brian Howe     Library Tapes  The Quiet City    ElectronicRock   \n",
       "2      Mike Powell     Bill Callahan     Gold Record              Rock   \n",
       "3   Zach Schonfeld  Freak Heat Waves  Zap the Planet  RockExperimental   \n",
       "4  Alphonse Pierre           YLZoomo      Born Again               Rap   \n",
       "\n",
       "         date                                    review_abstract  score  \\\n",
       "0  2020-09-05  After a string of misfires, the UK musician’s ...    7.6   \n",
       "1  2020-09-05  The Swedish minimalist composer David Wenngren...    7.0   \n",
       "2  2020-09-04  On his latest solo record, the singer-songwrit...    8.0   \n",
       "3  2020-09-04  The funky and hypnotic fourth album from the C...    7.8   \n",
       "4  2020-09-04  The NYC rapper YL’s music is full of slice-of-...    7.1   \n",
       "\n",
       "   target  year      month  ...  grade_level_22  grade_level_23  \\\n",
       "0  medium  2020  September  ...               0               0   \n",
       "1  medium  2020  September  ...               0               0   \n",
       "2    high  2020  September  ...               0               0   \n",
       "3  medium  2020  September  ...               0               0   \n",
       "4  medium  2020  September  ...               0               0   \n",
       "\n",
       "   grade_level_24  grade_level_25  grade_level_26  grade_level_27  \\\n",
       "0               0               0               0               0   \n",
       "1               0               0               0               0   \n",
       "2               0               0               0               0   \n",
       "3               0               0               0               0   \n",
       "4               0               0               0               0   \n",
       "\n",
       "   grade_level_28  grade_level_29  grade_level_31  grade_level_32  \n",
       "0               0               0               0               0  \n",
       "1               0               0               0               0  \n",
       "2               0               0               0               0  \n",
       "3               0               0               0               0  \n",
       "4               0               0               0               0  \n",
       "\n",
       "[5 rows x 178 columns]"
      ]
     },
     "execution_count": 3,
     "metadata": {},
     "output_type": "execute_result"
    }
   ],
   "source": [
    "dummies_genre = pd.get_dummies(df['genre']).rename(columns=lambda x: 'genre_' + str(x))\n",
    "dummies_target = pd.get_dummies(df['target']).rename(columns=lambda x: 'target_' + str(x))\n",
    "dummies_year = pd.get_dummies(df['year']).rename(columns=lambda x: 'year_' + str(x))\n",
    "dummies_month = pd.get_dummies(df['month']).rename(columns=lambda x: 'month_' + str(x))\n",
    "dummies_grade_level = pd.get_dummies(df['grade_level']).rename(columns=lambda x: 'grade_level_' + str(x))\n",
    "\n",
    "df = pd.concat([df, dummies_genre, dummies_target, dummies_year, dummies_month, dummies_grade_level], axis=1)\n",
    "df.head()"
   ]
  },
  {
   "cell_type": "code",
   "execution_count": 4,
   "metadata": {},
   "outputs": [],
   "source": [
    "num_cols = df[['score', 'reading_ease', 'word_count']]"
   ]
  },
  {
   "cell_type": "code",
   "execution_count": 5,
   "metadata": {},
   "outputs": [],
   "source": [
    "num_col_array = np.array(num_cols)"
   ]
  },
  {
   "cell_type": "code",
   "execution_count": 6,
   "metadata": {},
   "outputs": [],
   "source": [
    "scaler = StandardScaler()\n",
    "\n",
    "nca_fitted = scaler.fit_transform(num_col_array)\n"
   ]
  },
  {
   "cell_type": "code",
   "execution_count": 7,
   "metadata": {},
   "outputs": [
    {
     "data": {
      "text/html": [
       "<div>\n",
       "<style scoped>\n",
       "    .dataframe tbody tr th:only-of-type {\n",
       "        vertical-align: middle;\n",
       "    }\n",
       "\n",
       "    .dataframe tbody tr th {\n",
       "        vertical-align: top;\n",
       "    }\n",
       "\n",
       "    .dataframe thead th {\n",
       "        text-align: right;\n",
       "    }\n",
       "</style>\n",
       "<table border=\"1\" class=\"dataframe\">\n",
       "  <thead>\n",
       "    <tr style=\"text-align: right;\">\n",
       "      <th></th>\n",
       "      <th>0</th>\n",
       "      <th>1</th>\n",
       "      <th>2</th>\n",
       "    </tr>\n",
       "  </thead>\n",
       "  <tbody>\n",
       "    <tr>\n",
       "      <th>0</th>\n",
       "      <td>0.408663</td>\n",
       "      <td>0.341412</td>\n",
       "      <td>-0.761603</td>\n",
       "    </tr>\n",
       "    <tr>\n",
       "      <th>1</th>\n",
       "      <td>-0.167760</td>\n",
       "      <td>0.847959</td>\n",
       "      <td>-0.143450</td>\n",
       "    </tr>\n",
       "    <tr>\n",
       "      <th>2</th>\n",
       "      <td>0.792945</td>\n",
       "      <td>-1.621769</td>\n",
       "      <td>-0.231757</td>\n",
       "    </tr>\n",
       "    <tr>\n",
       "      <th>3</th>\n",
       "      <td>0.600804</td>\n",
       "      <td>1.396926</td>\n",
       "      <td>-0.761603</td>\n",
       "    </tr>\n",
       "    <tr>\n",
       "      <th>4</th>\n",
       "      <td>-0.071689</td>\n",
       "      <td>1.249079</td>\n",
       "      <td>-1.291448</td>\n",
       "    </tr>\n",
       "  </tbody>\n",
       "</table>\n",
       "</div>"
      ],
      "text/plain": [
       "          0         1         2\n",
       "0  0.408663  0.341412 -0.761603\n",
       "1 -0.167760  0.847959 -0.143450\n",
       "2  0.792945 -1.621769 -0.231757\n",
       "3  0.600804  1.396926 -0.761603\n",
       "4 -0.071689  1.249079 -1.291448"
      ]
     },
     "execution_count": 7,
     "metadata": {},
     "output_type": "execute_result"
    }
   ],
   "source": [
    "nca_df = pd.DataFrame(nca_fitted)\n",
    "\n",
    "nca_df.head()"
   ]
  },
  {
   "cell_type": "code",
   "execution_count": 8,
   "metadata": {},
   "outputs": [],
   "source": [
    "nca_df = nca_df.rename(columns={0:\"score_scaled\", 1:\"reading_ease_scaled\", 2:\"word_count_scaled\"})"
   ]
  },
  {
   "cell_type": "code",
   "execution_count": 9,
   "metadata": {},
   "outputs": [],
   "source": [
    "df = pd.concat([df, nca_df], axis=1)"
   ]
  },
  {
   "cell_type": "code",
   "execution_count": 10,
   "metadata": {},
   "outputs": [],
   "source": [
    "scaled_df = df.drop(['author', 'artist', 'title', 'genre', 'date', 'review_abstract', 'target','score', 'year', 'month', 'reading_ease', 'word_count', 'grade_level'], axis=1)"
   ]
  },
  {
   "cell_type": "code",
   "execution_count": 11,
   "metadata": {},
   "outputs": [],
   "source": [
    "X = scaled_df.drop('high', axis=1)\n",
    "y = scaled_df['high']"
   ]
  },
  {
   "cell_type": "code",
   "execution_count": 12,
   "metadata": {},
   "outputs": [
    {
     "data": {
      "text/plain": [
       "(10568, 167)"
      ]
     },
     "execution_count": 12,
     "metadata": {},
     "output_type": "execute_result"
    }
   ],
   "source": [
    "X.shape"
   ]
  },
  {
   "cell_type": "code",
   "execution_count": 13,
   "metadata": {},
   "outputs": [],
   "source": [
    "X = X.drop(columns=['target_high', 'target_medium', 'target_low', 'score_scaled'])"
   ]
  },
  {
   "cell_type": "code",
   "execution_count": 14,
   "metadata": {},
   "outputs": [],
   "source": [
    "X_train, X_test, y_train, y_test = train_test_split(X, y, test_size=0.30, random_state=23)"
   ]
  },
  {
   "cell_type": "markdown",
   "metadata": {},
   "source": [
    "**Smote for train sets**"
   ]
  },
  {
   "cell_type": "code",
   "execution_count": 15,
   "metadata": {},
   "outputs": [
    {
     "data": {
      "text/plain": [
       "{0: 5932, 1: 1465}"
      ]
     },
     "execution_count": 15,
     "metadata": {},
     "output_type": "execute_result"
    }
   ],
   "source": [
    "unique, count = np.unique(y_train, return_counts=True)\n",
    "y_train_dict = {k:v for(k,v) in zip(unique,count)}\n",
    "y_train_dict"
   ]
  },
  {
   "cell_type": "code",
   "execution_count": 16,
   "metadata": {},
   "outputs": [],
   "source": [
    "sm = SMOTE(random_state=12, sampling_strategy = 1.0)\n",
    "X_train_smote, y_train_smote = sm.fit_sample(X_train.astype('float'), y_train)"
   ]
  },
  {
   "cell_type": "code",
   "execution_count": 17,
   "metadata": {},
   "outputs": [
    {
     "data": {
      "text/plain": [
       "{0: 5932, 1: 5932}"
      ]
     },
     "execution_count": 17,
     "metadata": {},
     "output_type": "execute_result"
    }
   ],
   "source": [
    "unique, count = np.unique(y_train_smote, return_counts=True)\n",
    "y_train_smote_dict = {k:v for(k,v) in zip(unique,count)}\n",
    "y_train_smote_dict"
   ]
  },
  {
   "cell_type": "markdown",
   "metadata": {},
   "source": [
    "**Smote for test sets**"
   ]
  },
  {
   "cell_type": "code",
   "execution_count": 18,
   "metadata": {},
   "outputs": [
    {
     "data": {
      "text/plain": [
       "{0: 2549, 1: 622}"
      ]
     },
     "execution_count": 18,
     "metadata": {},
     "output_type": "execute_result"
    }
   ],
   "source": [
    "unique, count = np.unique(y_test, return_counts=True)\n",
    "y_train_dict = {k:v for(k,v) in zip(unique,count)}\n",
    "y_train_dict"
   ]
  },
  {
   "cell_type": "code",
   "execution_count": 19,
   "metadata": {},
   "outputs": [],
   "source": [
    "sm = SMOTE(random_state=12, sampling_strategy = 1.0)\n",
    "X_test_smote, y_test_smote = sm.fit_sample(X_test.astype('float'), y_test)"
   ]
  },
  {
   "cell_type": "code",
   "execution_count": 20,
   "metadata": {},
   "outputs": [
    {
     "data": {
      "text/plain": [
       "{0: 2549, 1: 2549}"
      ]
     },
     "execution_count": 20,
     "metadata": {},
     "output_type": "execute_result"
    }
   ],
   "source": [
    "unique, count = np.unique(y_test_smote, return_counts=True)\n",
    "y_test_smote_dict = {k:v for(k,v) in zip(unique,count)}\n",
    "y_test_smote_dict"
   ]
  },
  {
   "cell_type": "markdown",
   "metadata": {},
   "source": [
    "**Random Forest**"
   ]
  },
  {
   "cell_type": "code",
   "execution_count": 21,
   "metadata": {},
   "outputs": [
    {
     "data": {
      "text/plain": [
       "RandomForestClassifier(max_depth=50, max_features='sqrt', min_samples_split=6,\n",
       "                       n_estimators=250)"
      ]
     },
     "execution_count": 21,
     "metadata": {},
     "output_type": "execute_result"
    }
   ],
   "source": [
    "clf = RandomForestClassifier()\n",
    "\n",
    "parameters = {'n_estimators': [250], \n",
    "              'max_features': ['sqrt'], \n",
    "              'criterion': ['entropy', 'gini'],\n",
    "              'max_depth': [50], \n",
    "              'min_samples_split': [6],\n",
    "              'min_samples_leaf': [1,5,8],\n",
    "             }\n",
    "\n",
    "roc_auc = make_scorer(roc_auc_score)\n",
    "\n",
    "grid_obj = GridSearchCV(clf, parameters, scoring=roc_auc)\n",
    "grid_obj = grid_obj.fit(X_train_smote, y_train_smote)\n",
    "\n",
    "clf = grid_obj.best_estimator_\n",
    "\n",
    "clf.fit(X_train_smote, y_train_smote)\n",
    "\n",
    "#['log2', 'sqrt','auto']"
   ]
  },
  {
   "cell_type": "code",
   "execution_count": 22,
   "metadata": {},
   "outputs": [
    {
     "name": "stdout",
     "output_type": "stream",
     "text": [
      "0.8209101608473911\n"
     ]
    }
   ],
   "source": [
    "predictions_rf = clf.predict(X_test_smote)\n",
    "print(accuracy_score(y_test_smote, predictions_rf))"
   ]
  },
  {
   "cell_type": "code",
   "execution_count": 23,
   "metadata": {},
   "outputs": [
    {
     "data": {
      "text/plain": [
       "array([[2430,  119],\n",
       "       [ 794, 1755]], dtype=int64)"
      ]
     },
     "execution_count": 23,
     "metadata": {},
     "output_type": "execute_result"
    }
   ],
   "source": [
    "confusion_matrix(y_test_smote, predictions_rf)"
   ]
  },
  {
   "cell_type": "code",
   "execution_count": 24,
   "metadata": {},
   "outputs": [
    {
     "name": "stdout",
     "output_type": "stream",
     "text": [
      "              precision    recall  f1-score   support\n",
      "\n",
      "           0       0.75      0.95      0.84      2549\n",
      "           1       0.94      0.69      0.79      2549\n",
      "\n",
      "    accuracy                           0.82      5098\n",
      "   macro avg       0.85      0.82      0.82      5098\n",
      "weighted avg       0.85      0.82      0.82      5098\n",
      "\n"
     ]
    }
   ],
   "source": [
    "print(classification_report(y_test_smote, predictions_rf))"
   ]
  },
  {
   "cell_type": "markdown",
   "metadata": {},
   "source": [
    "**Linear Regression**"
   ]
  },
  {
   "cell_type": "code",
   "execution_count": 25,
   "metadata": {},
   "outputs": [
    {
     "data": {
      "text/plain": [
       "LogisticRegression(C=10, max_iter=1000, random_state=0)"
      ]
     },
     "execution_count": 25,
     "metadata": {},
     "output_type": "execute_result"
    }
   ],
   "source": [
    "lr = LogisticRegression()\n",
    "\n",
    "parameters = {'penalty': ['l2'],\n",
    "              'C': [5, 10],\n",
    "              'random_state': [0],\n",
    "              'max_iter': [1000]}\n",
    "\n",
    "roc_auc = make_scorer(roc_auc_score, greater_is_better=True,\n",
    "                                needs_threshold=True)\n",
    "grid_obj_lr = GridSearchCV(lr, parameters, scoring=roc_auc)\n",
    "grid_obj_lr = grid_obj_lr.fit(X_train_smote, y_train_smote)\n",
    "\n",
    "lr = grid_obj_lr.best_estimator_\n",
    "\n",
    "lr.fit(X_train_smote, y_train_smote)"
   ]
  },
  {
   "cell_type": "code",
   "execution_count": 26,
   "metadata": {},
   "outputs": [
    {
     "name": "stdout",
     "output_type": "stream",
     "text": [
      "0.611023930953315\n"
     ]
    }
   ],
   "source": [
    "predictions_lr = lr.predict(X_test_smote)\n",
    "print(accuracy_score(y_test_smote, predictions_lr))"
   ]
  },
  {
   "cell_type": "code",
   "execution_count": 27,
   "metadata": {},
   "outputs": [
    {
     "data": {
      "text/plain": [
       "array([[1590,  959],\n",
       "       [1024, 1525]], dtype=int64)"
      ]
     },
     "execution_count": 27,
     "metadata": {},
     "output_type": "execute_result"
    }
   ],
   "source": [
    "confusion_matrix(y_test_smote, predictions_lr)"
   ]
  },
  {
   "cell_type": "code",
   "execution_count": 28,
   "metadata": {},
   "outputs": [
    {
     "name": "stdout",
     "output_type": "stream",
     "text": [
      "              precision    recall  f1-score   support\n",
      "\n",
      "           0       0.61      0.62      0.62      2549\n",
      "           1       0.61      0.60      0.61      2549\n",
      "\n",
      "    accuracy                           0.61      5098\n",
      "   macro avg       0.61      0.61      0.61      5098\n",
      "weighted avg       0.61      0.61      0.61      5098\n",
      "\n"
     ]
    }
   ],
   "source": [
    "print(classification_report(y_test_smote, predictions_lr))"
   ]
  },
  {
   "cell_type": "markdown",
   "metadata": {},
   "source": [
    "**Naive Bayes**"
   ]
  },
  {
   "cell_type": "code",
   "execution_count": 29,
   "metadata": {},
   "outputs": [],
   "source": [
    "roc_auc = make_scorer(roc_auc_score, greater_is_better=True,\n",
    "                                 needs_threshold=True)"
   ]
  },
  {
   "cell_type": "code",
   "execution_count": 30,
   "metadata": {},
   "outputs": [
    {
     "data": {
      "text/plain": [
       "GaussianNB()"
      ]
     },
     "execution_count": 30,
     "metadata": {},
     "output_type": "execute_result"
    }
   ],
   "source": [
    "nb = GaussianNB()\n",
    "\n",
    "parameters = {'priors': [None],\n",
    "             'var_smoothing': [1e-09]\n",
    "             }\n",
    "nb.fit(X, y)\n",
    "grid_obj_nb = GridSearchCV(nb, parameters, scoring=roc_auc)\n",
    "grid_obj_nb = grid_obj_nb.fit(X_train_smote, y_train_smote)\n",
    "\n",
    "nb = grid_obj_nb.best_estimator_\n",
    "\n",
    "\n",
    "nb.fit(X_train_smote, y_train_smote)"
   ]
  },
  {
   "cell_type": "code",
   "execution_count": 31,
   "metadata": {},
   "outputs": [
    {
     "name": "stdout",
     "output_type": "stream",
     "text": [
      "0.5031384856806591\n"
     ]
    }
   ],
   "source": [
    "predictions_nb = nb.predict(X_test_smote)\n",
    "print(accuracy_score(y_test_smote, predictions_nb))"
   ]
  },
  {
   "cell_type": "code",
   "execution_count": 32,
   "metadata": {},
   "outputs": [
    {
     "data": {
      "text/plain": [
       "array([[  66, 2483],\n",
       "       [  50, 2499]], dtype=int64)"
      ]
     },
     "execution_count": 32,
     "metadata": {},
     "output_type": "execute_result"
    }
   ],
   "source": [
    "confusion_matrix(y_test_smote, predictions_nb)"
   ]
  },
  {
   "cell_type": "code",
   "execution_count": 33,
   "metadata": {},
   "outputs": [
    {
     "name": "stdout",
     "output_type": "stream",
     "text": [
      "              precision    recall  f1-score   support\n",
      "\n",
      "           0       0.57      0.03      0.05      2549\n",
      "           1       0.50      0.98      0.66      2549\n",
      "\n",
      "    accuracy                           0.50      5098\n",
      "   macro avg       0.54      0.50      0.36      5098\n",
      "weighted avg       0.54      0.50      0.36      5098\n",
      "\n"
     ]
    }
   ],
   "source": [
    "print(classification_report(y_test_smote, predictions_nb))"
   ]
  },
  {
   "cell_type": "markdown",
   "metadata": {},
   "source": [
    "**ROC Curve**"
   ]
  },
  {
   "cell_type": "code",
   "execution_count": 34,
   "metadata": {},
   "outputs": [],
   "source": [
    "rf_probs = clf.predict_proba(X_test_smote)\n",
    "nb_probs = nb.predict_proba(X_test_smote)\n",
    "lr_probs = lr.predict_proba(X_test_smote)"
   ]
  },
  {
   "cell_type": "code",
   "execution_count": 35,
   "metadata": {},
   "outputs": [],
   "source": [
    "rf_probs = rf_probs[:, 1]\n",
    "nb_probs = nb_probs[:, 1]\n",
    "lr_probs = lr_probs[:, 1]"
   ]
  },
  {
   "cell_type": "code",
   "execution_count": 36,
   "metadata": {},
   "outputs": [],
   "source": [
    "rf_auc = roc_auc_score(y_test_smote, rf_probs)\n",
    "nb_auc = roc_auc_score(y_test_smote, nb_probs)\n",
    "lr_auc = roc_auc_score(y_test_smote, lr_probs)"
   ]
  },
  {
   "cell_type": "code",
   "execution_count": 37,
   "metadata": {},
   "outputs": [],
   "source": [
    "rf_fpr, rf_tpr, _ = roc_curve(y_test_smote, rf_probs)\n",
    "nb_fpr, nb_tpr, _ = roc_curve(y_test_smote, nb_probs)\n",
    "lr_fpr, lr_tpr, _ = roc_curve(y_test_smote, lr_probs)"
   ]
  },
  {
   "cell_type": "code",
   "execution_count": 38,
   "metadata": {},
   "outputs": [
    {
     "data": {
      "image/png": "[encoded data removed]",
      "text/plain": [
       "<Figure size 432x288 with 1 Axes>"
      ]
     },
     "metadata": {
      "needs_background": "light"
     },
     "output_type": "display_data"
    }
   ],
   "source": [
    "plt.plot(rf_fpr, rf_tpr, label='Random Forest (AUROC = %0.3f)' % rf_auc)\n",
    "plt.plot(nb_fpr, nb_tpr, marker='.', label='Naive Bayes (AUROC = %0.3f)' % nb_auc)\n",
    "plt.plot(lr_fpr, lr_tpr, label='Linear Regression (AUROC = %0.3f)' % lr_auc)\n",
    "\n",
    "# Title\n",
    "plt.title('ROC Plot')\n",
    "# Axis labels\n",
    "plt.xlabel('False Positive Rate')\n",
    "plt.ylabel('True Positive Rate')\n",
    "# Show legend\n",
    "plt.legend() # \n",
    "# Show plot\n",
    "plt.show()"
   ]
  },
  {
   "cell_type": "code",
   "execution_count": 39,
   "metadata": {},
   "outputs": [
    {
     "name": "stdout",
     "output_type": "stream",
     "text": [
      "None\n"
     ]
    }
   ],
   "source": [
    "important_features = pd.Series(data=clf.feature_importances_,index=X.columns)\n",
    "print(important_features.sort_values(ascending=False,inplace=True))"
   ]
  },
  {
   "cell_type": "code",
   "execution_count": 40,
   "metadata": {},
   "outputs": [
    {
     "data": {
      "text/plain": [
       "word_count_scaled      0.119763\n",
       "reading_ease_scaled    0.089969\n",
       "genre_Rock             0.041619\n",
       "EP                     0.027217\n",
       "genre_Electronic       0.026947\n",
       "genre_Rap              0.025930\n",
       "month_June             0.020895\n",
       "year_2015              0.020138\n",
       "month_February         0.019823\n",
       "month_July             0.019678\n",
       "dtype: float64"
      ]
     },
     "execution_count": 40,
     "metadata": {},
     "output_type": "execute_result"
    }
   ],
   "source": [
    "important_features.head(10)"
   ]
  },
  {
   "cell_type": "code",
   "execution_count": 41,
   "metadata": {},
   "outputs": [
    {
     "data": {
      "text/plain": [
       "(7397, 163)"
      ]
     },
     "execution_count": 41,
     "metadata": {},
     "output_type": "execute_result"
    }
   ],
   "source": [
    "X_train.shape"
   ]
  },
  {
   "cell_type": "code",
   "execution_count": 42,
   "metadata": {},
   "outputs": [],
   "source": [
    "rf_probs = clf.predict_proba(X_test_smote)\n",
    "# keep probabilities for the positive outcome only\n",
    "rf_probs = rf_probs[:, 1]"
   ]
  },
  {
   "cell_type": "code",
   "execution_count": 43,
   "metadata": {},
   "outputs": [],
   "source": [
    "# calculate scores\n",
    "rf_auc = roc_auc_score(y_test_smote, rf_probs)"
   ]
  },
  {
   "cell_type": "code",
   "execution_count": 44,
   "metadata": {},
   "outputs": [
    {
     "data": {
      "image/png": "[encoded data removed]",
      "text/plain": [
       "<Figure size 432x288 with 1 Axes>"
      ]
     },
     "metadata": {
      "needs_background": "light"
     },
     "output_type": "display_data"
    }
   ],
   "source": [
    "# predict probabilities\n",
    "yhat = clf.predict_proba(X_test_smote)\n",
    "# keep probabilities for the positive outcome only\n",
    "yhat = yhat[:, 1]\n",
    "# calculate roc curves\n",
    "fpr, tpr, thresholds = roc_curve(y_test_smote, yhat)\n",
    "# plot the roc curve for the model\n",
    "pyplot.plot([0,1], [0,1], linestyle='--', label='No Skill')\n",
    "pyplot.plot(fpr, tpr, label='Random Forest')\n",
    "# axis labels\n",
    "pyplot.xlabel('False Positive Rate')\n",
    "pyplot.ylabel('True Positive Rate')\n",
    "pyplot.legend()\n",
    "# show the plot\n",
    "pyplot.show()"
   ]
  },
  {
   "cell_type": "code",
   "execution_count": 45,
   "metadata": {},
   "outputs": [],
   "source": [
    "# calculate the g-mean for each threshold\n",
    "gmeans = np.sqrt(tpr * (1-fpr))"
   ]
  },
  {
   "cell_type": "code",
   "execution_count": 46,
   "metadata": {},
   "outputs": [
    {
     "name": "stdout",
     "output_type": "stream",
     "text": [
      "Best Threshold=0.449200, G-Mean=0.830\n"
     ]
    }
   ],
   "source": [
    "# locate the index of the largest g-mean\n",
    "ix = np.argmax(gmeans)\n",
    "print('Best Threshold=%f, G-Mean=%.3f' % (thresholds[ix], gmeans[ix]))"
   ]
  },
  {
   "cell_type": "code",
   "execution_count": 47,
   "metadata": {},
   "outputs": [
    {
     "name": "stdout",
     "output_type": "stream",
     "text": [
      "Best Threshold=0.449200\n"
     ]
    }
   ],
   "source": [
    "# calculate roc curves\n",
    "fpr, tpr, thresholds = roc_curve(y_test_smote, yhat)\n",
    "# get the best threshold\n",
    "J = tpr - fpr\n",
    "ix = np.argmax(J)\n",
    "best_thresh = thresholds[ix]\n",
    "print('Best Threshold=%f' % (best_thresh))"
   ]
  },
  {
   "cell_type": "code",
   "execution_count": 48,
   "metadata": {},
   "outputs": [],
   "source": [
    "# calculate pr-curve\n",
    "precision, recall, thresholds = precision_recall_curve(y_test_smote, yhat)"
   ]
  },
  {
   "cell_type": "code",
   "execution_count": 49,
   "metadata": {},
   "outputs": [
    {
     "data": {
      "image/png": "[encoded data removed]",
      "text/plain": [
       "<Figure size 432x288 with 1 Axes>"
      ]
     },
     "metadata": {
      "needs_background": "light"
     },
     "output_type": "display_data"
    }
   ],
   "source": [
    "# plot the roc curve for the model\n",
    "no_skill = len(y_test_smote[y_test_smote==1]) / len(y_test_smote)\n",
    "pyplot.plot([0,1], [no_skill,no_skill], linestyle='--', label='No Skill')\n",
    "pyplot.plot(recall, precision, label='Random Forest')\n",
    "# axis labels\n",
    "pyplot.xlabel('Recall')\n",
    "pyplot.ylabel('Precision')\n",
    "pyplot.legend()\n",
    "# show the plot\n",
    "pyplot.show()"
   ]
  },
  {
   "cell_type": "code",
   "execution_count": 50,
   "metadata": {},
   "outputs": [
    {
     "name": "stdout",
     "output_type": "stream",
     "text": [
      "Best Threshold=0.375589, F-Score=0.822\n"
     ]
    }
   ],
   "source": [
    "# convert to f score\n",
    "fscore = (2 * precision * recall) / (precision + recall)\n",
    "# locate the index of the largest f score\n",
    "ix = np.argmax(fscore)\n",
    "print('Best Threshold=%f, F-Score=%.3f' % (thresholds[ix], fscore[ix]))"
   ]
  },
  {
   "cell_type": "code",
   "execution_count": 51,
   "metadata": {},
   "outputs": [
    {
     "data": {
      "image/png": "[encoded data removed]",
      "text/plain": [
       "<Figure size 432x288 with 1 Axes>"
      ]
     },
     "metadata": {
      "needs_background": "light"
     },
     "output_type": "display_data"
    }
   ],
   "source": [
    "# plot the roc curve for the model\n",
    "no_skill = len(y_test_smote[y_test_smote==1]) / len(y_test_smote)\n",
    "pyplot.plot([0,1], [no_skill,no_skill], linestyle='--', label='No Skill')\n",
    "pyplot.plot(recall, precision, label='Random Forest')\n",
    "pyplot.scatter(recall[ix], precision[ix], marker='o', color='black', label='Best')\n",
    "# axis labels\n",
    "pyplot.xlabel('Recall')\n",
    "pyplot.ylabel('Precision')\n",
    "pyplot.legend()\n",
    "plt.text(.76,.52,'Best Threshold',rotation=90)\n",
    "plt.axvline(x = 0.8, \n",
    "            color ='black') \n",
    "pyplot.show()"
   ]
  },
  {
   "cell_type": "code",
   "execution_count": 52,
   "metadata": {},
   "outputs": [
    {
     "name": "stdout",
     "output_type": "stream",
     "text": [
      "F-Score: 0.79358\n"
     ]
    }
   ],
   "source": [
    "# predict labels\n",
    "yhat = clf.predict(X_test_smote)\n",
    "# evaluate the model\n",
    "score = f1_score(y_test_smote, yhat)\n",
    "print('F-Score: %.5f' % score)"
   ]
  },
  {
   "cell_type": "code",
   "execution_count": 53,
   "metadata": {},
   "outputs": [],
   "source": [
    "# predict probabilities\n",
    "yhat = clf.predict_proba(X_test_smote)"
   ]
  },
  {
   "cell_type": "code",
   "execution_count": 54,
   "metadata": {},
   "outputs": [],
   "source": [
    "# keep probabilities for the positive outcome only\n",
    "probs = yhat[:, 1]"
   ]
  },
  {
   "cell_type": "code",
   "execution_count": 55,
   "metadata": {},
   "outputs": [],
   "source": [
    "# define thresholds\n",
    "thresholds = np.arange(0, 1, 0.001)"
   ]
  },
  {
   "cell_type": "code",
   "execution_count": 56,
   "metadata": {},
   "outputs": [],
   "source": [
    "\n",
    "# apply threshold to positive probabilities to create labels\n",
    "def to_labels(pos_probs, threshold):\n",
    "    return (pos_probs >= threshold).astype('int')"
   ]
  },
  {
   "cell_type": "code",
   "execution_count": 57,
   "metadata": {},
   "outputs": [],
   "source": [
    "# evaluate each threshold\n",
    "scores = [f1_score(y_test_smote, to_labels(probs, t)) for t in thresholds]"
   ]
  },
  {
   "cell_type": "code",
   "execution_count": 58,
   "metadata": {},
   "outputs": [
    {
     "name": "stdout",
     "output_type": "stream",
     "text": [
      "Threshold=0.373, F-Score=0.82145\n"
     ]
    }
   ],
   "source": [
    "# get best threshold\n",
    "ix = np.argmax(scores)\n",
    "print('Threshold=%.3f, F-Score=%.5f' % (thresholds[ix], scores[ix]))"
   ]
  },
  {
   "cell_type": "markdown",
   "metadata": {},
   "source": [
    "**Thresholding for accuracy**"
   ]
  },
  {
   "cell_type": "code",
   "execution_count": 59,
   "metadata": {},
   "outputs": [],
   "source": [
    "def adjust_pred_prob(y_pred_prob, new_threshold):\n",
    "    \"\"\"Adjust predicted probabilities to match new threshold value\"\"\"\n",
    "    \n",
    "    return [1 if y >= new_threshold else 0 for y in y_pred_prob]"
   ]
  },
  {
   "cell_type": "code",
   "execution_count": 60,
   "metadata": {},
   "outputs": [],
   "source": [
    "rf_clf = clf.predict(X_test_smote)"
   ]
  },
  {
   "cell_type": "code",
   "execution_count": 61,
   "metadata": {},
   "outputs": [
    {
     "data": {
      "text/plain": [
       "0.8209101608473912"
      ]
     },
     "execution_count": 61,
     "metadata": {},
     "output_type": "execute_result"
    }
   ],
   "source": [
    "balanced_accuracy_score(y_test_smote, rf_clf)"
   ]
  },
  {
   "cell_type": "code",
   "execution_count": 62,
   "metadata": {},
   "outputs": [
    {
     "data": {
      "text/plain": [
       "0.8209101608473911"
      ]
     },
     "execution_count": 62,
     "metadata": {},
     "output_type": "execute_result"
    }
   ],
   "source": [
    "accuracy_score(y_test_smote, rf_clf)"
   ]
  },
  {
   "cell_type": "code",
   "execution_count": 63,
   "metadata": {},
   "outputs": [],
   "source": [
    "thresholds=np.arange(0,1,.01)"
   ]
  },
  {
   "cell_type": "code",
   "execution_count": 64,
   "metadata": {},
   "outputs": [],
   "source": [
    "pred_prob_rf_clf = clf.predict_proba(X_test_smote)[:,1]"
   ]
  },
  {
   "cell_type": "code",
   "execution_count": 65,
   "metadata": {},
   "outputs": [],
   "source": [
    "accuracy_points = []\n",
    "\n",
    "for t in thresholds:\n",
    "        adjusted_y_pred = adjust_pred_prob(pred_prob_rf_clf, new_threshold=t)\n",
    "        new_balance = accuracy_score(y_test_smote, adjusted_y_pred)\n",
    "        accuracy_points.append(new_balance)"
   ]
  },
  {
   "cell_type": "code",
   "execution_count": 66,
   "metadata": {},
   "outputs": [],
   "source": [
    "balanced_accuracy_points = []\n",
    "\n",
    "for t in thresholds:\n",
    "        adjusted_y_pred = adjust_pred_prob(pred_prob_rf_clf, new_threshold=t)\n",
    "        new_balance = balanced_accuracy_score(y_test_smote, adjusted_y_pred)\n",
    "        balanced_accuracy_points.append(new_balance)"
   ]
  },
  {
   "cell_type": "code",
   "execution_count": 69,
   "metadata": {},
   "outputs": [
    {
     "data": {
      "image/png": "[encoded data removed]",
      "text/plain": [
       "<Figure size 720x360 with 1 Axes>"
      ]
     },
     "metadata": {
      "needs_background": "light"
     },
     "output_type": "display_data"
    }
   ],
   "source": [
    "plt.figure(figsize=(10,5))\n",
    "plt.plot(thresholds, accuracy_points, color='blue')\n",
    "plt.plot(thresholds, balanced_accuracy_points, color='red')\n",
    "plt.title('Accuracy Curve')\n",
    "plt.legend(('Accuracy', 'Balanced Accuracy'))\n",
    "plt.xlabel('Threshold')\n",
    "plt.axvline(x=.43, color='black')\n",
    "plt.text(.41,.5,'Optimal Threshold Accuracy',rotation=90)\n",
    "plt.axvline(x=.5, color='black')\n",
    "plt.text(.48,.5,'Optimal Threshold Balanced Acc.',rotation=90)\n",
    "plt.ylabel('Proportion')\n",
    "plt.show()"
   ]
  }
 ],
 "metadata": {
  "kernelspec": {
   "display_name": "Python 3",
   "language": "python",
   "name": "python3"
  },
  "language_info": {
   "codemirror_mode": {
    "name": "ipython",
    "version": 3
   },
   "file_extension": ".py",
   "mimetype": "text/x-python",
   "name": "python",
   "nbconvert_exporter": "python",
   "pygments_lexer": "ipython3",
   "version": "3.6.5"
  }
 },
 "nbformat": 4,
 "nbformat_minor": 4
}
