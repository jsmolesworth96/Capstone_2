{
 "cells": [
  {
   "cell_type": "code",
   "execution_count": 1,
   "metadata": {},
   "outputs": [
    {
     "data": {
      "text/plain": [
       "['https://pitchfork.com/reviews/albums/?page=4',\n",
       " 'https://pitchfork.com/reviews/albums/?page=5',\n",
       " 'https://pitchfork.com/reviews/albums/?page=6',\n",
       " 'https://pitchfork.com/reviews/albums/?page=7',\n",
       " 'https://pitchfork.com/reviews/albums/?page=8',\n",
       " 'https://pitchfork.com/reviews/albums/?page=9',\n",
       " 'https://pitchfork.com/reviews/albums/?page=10',\n",
       " 'https://pitchfork.com/reviews/albums/?page=11']"
      ]
     },
     "execution_count": 1,
     "metadata": {},
     "output_type": "execute_result"
    }
   ],
   "source": [
    "import bs4\n",
    "import requests\n",
    "import pandas as pd\n",
    "import datetime as dt\n",
    "import re\n",
    "import numpy as np\n",
    "\n",
    "url = \"https://pitchfork.com/reviews/albums/?page=\"\n",
    "i = 3\n",
    "l = []\n",
    "while i <= 10:\n",
    "    i = i + 1\n",
    "    t = url + str(i)\n",
    "    l.append(t)\n",
    "l"
   ]
  },
  {
   "cell_type": "code",
   "execution_count": 2,
   "metadata": {},
   "outputs": [],
   "source": [
    "def scrape_list_page(url):\n",
    "    r = requests.get(url) \n",
    "    soup = bs4.BeautifulSoup(r.text, 'html.parser')\n",
    "    s = soup.find('div', {'class': 'fragment-list'})\n",
    "    s2 = s.findAll('div', {'class': 'review'})\n",
    "    l = []\n",
    "    for item in s2:\n",
    "        try:\n",
    "            d = {}\n",
    "            x = item.find(\"ul\", {\"class\": \"authors\"})\n",
    "            d['author'] = x.text\n",
    "            x2 = item.find(\"ul\", {\"class\": \"artist-list review__title-artist\"})\n",
    "            d['artist'] = x2.text\n",
    "            d['title'] = item.find(\"h2\", {\"class\": \"review__title-album\"}).text\n",
    "            x3 = item.find(\"ul\", {\"class\": \"genre-list genre-list--inline review__genre-list\"})\n",
    "            d['genre'] = x3.text\n",
    "            x4 = item.find(\"time\", {\"class\": \"pub-date\"})\n",
    "            d['date'] = x4.text\n",
    "            link = item.find('a').get('href')\n",
    "            r = requests.get('https://pitchfork.com' + link)\n",
    "            soup = bs4.BeautifulSoup(r.text, 'html.parser')\n",
    "            d['review_abstract'] = soup.find('div', {\"class\": \"review-detail__abstract\"}).text\n",
    "            d['score'] = soup.find('span', {\"class\": \"score\"}).text\n",
    "        except:\n",
    "            d = {key: \"ERROR\" for key in [\"author\", \"artist\",\"genre\",\"date\",\"review_abstract\",\"score\"]}\n",
    "        l.append(d)\n",
    "    l2 = pd.DataFrame(l)\n",
    "    return l2"
   ]
  },
  {
   "cell_type": "code",
   "execution_count": 3,
   "metadata": {},
   "outputs": [
    {
     "data": {
      "text/html": [
       "<div>\n",
       "<style scoped>\n",
       "    .dataframe tbody tr th:only-of-type {\n",
       "        vertical-align: middle;\n",
       "    }\n",
       "\n",
       "    .dataframe tbody tr th {\n",
       "        vertical-align: top;\n",
       "    }\n",
       "\n",
       "    .dataframe thead th {\n",
       "        text-align: right;\n",
       "    }\n",
       "</style>\n",
       "<table border=\"1\" class=\"dataframe\">\n",
       "  <thead>\n",
       "    <tr style=\"text-align: right;\">\n",
       "      <th></th>\n",
       "      <th>author</th>\n",
       "      <th>artist</th>\n",
       "      <th>title</th>\n",
       "      <th>genre</th>\n",
       "      <th>date</th>\n",
       "      <th>review_abstract</th>\n",
       "      <th>score</th>\n",
       "    </tr>\n",
       "  </thead>\n",
       "  <tbody>\n",
       "    <tr>\n",
       "      <th>0</th>\n",
       "      <td>by: Ian Cohen</td>\n",
       "      <td>The Smashing Pumpkins</td>\n",
       "      <td>CYR</td>\n",
       "      <td>Rock</td>\n",
       "      <td>December 1 2020</td>\n",
       "      <td>Billy Corgan reenlists the creative core of Ja...</td>\n",
       "      <td>5.5</td>\n",
       "    </tr>\n",
       "    <tr>\n",
       "      <th>1</th>\n",
       "      <td>by: Marty Sartini Garner</td>\n",
       "      <td>Rob MazurekExploding Star Orchestra</td>\n",
       "      <td>Dimensional Stardust</td>\n",
       "      <td>Jazz</td>\n",
       "      <td>December 1 2020</td>\n",
       "      <td>The Chicago jazz composer stitches together an...</td>\n",
       "      <td>8.0</td>\n",
       "    </tr>\n",
       "    <tr>\n",
       "      <th>2</th>\n",
       "      <td>by: Megan Buerger</td>\n",
       "      <td>Lindstrøm &amp; Prins Thomas</td>\n",
       "      <td>III</td>\n",
       "      <td>Pop/R&amp;B</td>\n",
       "      <td>December 1 2020</td>\n",
       "      <td>A decade after their last album together, the ...</td>\n",
       "      <td>7.3</td>\n",
       "    </tr>\n",
       "    <tr>\n",
       "      <th>3</th>\n",
       "      <td>by: Jemima Skala</td>\n",
       "      <td>Fatima Yamaha</td>\n",
       "      <td>Spontaneous Order</td>\n",
       "      <td>Electronic</td>\n",
       "      <td>December 1 2020</td>\n",
       "      <td>Dutch producer Bas Bron abandons the understat...</td>\n",
       "      <td>6.5</td>\n",
       "    </tr>\n",
       "    <tr>\n",
       "      <th>4</th>\n",
       "      <td>by: Will Pritchard</td>\n",
       "      <td>FLOHIO</td>\n",
       "      <td>No Panic No Pain</td>\n",
       "      <td>Rap</td>\n",
       "      <td>November 30 2020</td>\n",
       "      <td>The long-awaited debut from this hotly tipped ...</td>\n",
       "      <td>6.7</td>\n",
       "    </tr>\n",
       "    <tr>\n",
       "      <th>5</th>\n",
       "      <td>by: Robert Ham</td>\n",
       "      <td>Cabaret Voltaire</td>\n",
       "      <td>Shadow of Fear</td>\n",
       "      <td>ElectronicExperimental</td>\n",
       "      <td>November 30 2020</td>\n",
       "      <td>The post-punk/proto-industrial group is now do...</td>\n",
       "      <td>6.8</td>\n",
       "    </tr>\n",
       "    <tr>\n",
       "      <th>6</th>\n",
       "      <td>by: Ben Cardew</td>\n",
       "      <td>Il Quadro di Troisi</td>\n",
       "      <td>Il Quadro di Troisi</td>\n",
       "      <td>Electronic</td>\n",
       "      <td>November 30 2020</td>\n",
       "      <td>Italian electronic musicians Donato Dozzy and ...</td>\n",
       "      <td>7.5</td>\n",
       "    </tr>\n",
       "    <tr>\n",
       "      <th>7</th>\n",
       "      <td>by: Jesse Dorris</td>\n",
       "      <td>Coil</td>\n",
       "      <td>Musick to Play in the Dark</td>\n",
       "      <td>ElectronicExperimentalRock</td>\n",
       "      <td>November 30 2020</td>\n",
       "      <td>Newly reissued, the duo’s 1999 magnum opus que...</td>\n",
       "      <td>8.4</td>\n",
       "    </tr>\n",
       "    <tr>\n",
       "      <th>8</th>\n",
       "      <td>by: Quinn Moreland</td>\n",
       "      <td>George HarrisonRavi Shankar</td>\n",
       "      <td>The Concert for Bangladesh</td>\n",
       "      <td>RockExperimental</td>\n",
       "      <td>November 29 2020</td>\n",
       "      <td>Each Sunday, Pitchfork takes an in-depth look ...</td>\n",
       "      <td>9.0</td>\n",
       "    </tr>\n",
       "    <tr>\n",
       "      <th>9</th>\n",
       "      <td>ERROR</td>\n",
       "      <td>ERROR</td>\n",
       "      <td>NaN</td>\n",
       "      <td>ERROR</td>\n",
       "      <td>ERROR</td>\n",
       "      <td>ERROR</td>\n",
       "      <td>ERROR</td>\n",
       "    </tr>\n",
       "    <tr>\n",
       "      <th>10</th>\n",
       "      <td>by: Vrinda Jagota</td>\n",
       "      <td>Phoebe Bridgers</td>\n",
       "      <td>Copycat Killer EP</td>\n",
       "      <td>Folk/Country</td>\n",
       "      <td>November 27 2020</td>\n",
       "      <td>The songwriter’s new EP reimagines four tracks...</td>\n",
       "      <td>7.2</td>\n",
       "    </tr>\n",
       "    <tr>\n",
       "      <th>11</th>\n",
       "      <td>by: Jenzia Burgos</td>\n",
       "      <td>Kali Uchis</td>\n",
       "      <td>Sin Miedo (del Amor y Otros Demonios) ∞</td>\n",
       "      <td>Pop/R&amp;B</td>\n",
       "      <td>November 25 2020</td>\n",
       "      <td>On her first Spanish-language LP, the Colombia...</td>\n",
       "      <td>7.8</td>\n",
       "    </tr>\n",
       "  </tbody>\n",
       "</table>\n",
       "</div>"
      ],
      "text/plain": [
       "                      author                               artist  \\\n",
       "0              by: Ian Cohen                The Smashing Pumpkins   \n",
       "1   by: Marty Sartini Garner  Rob MazurekExploding Star Orchestra   \n",
       "2          by: Megan Buerger             Lindstrøm & Prins Thomas   \n",
       "3           by: Jemima Skala                        Fatima Yamaha   \n",
       "4         by: Will Pritchard                               FLOHIO   \n",
       "5             by: Robert Ham                     Cabaret Voltaire   \n",
       "6             by: Ben Cardew                  Il Quadro di Troisi   \n",
       "7           by: Jesse Dorris                                 Coil   \n",
       "8         by: Quinn Moreland          George HarrisonRavi Shankar   \n",
       "9                      ERROR                                ERROR   \n",
       "10         by: Vrinda Jagota                      Phoebe Bridgers   \n",
       "11         by: Jenzia Burgos                           Kali Uchis   \n",
       "\n",
       "                                      title                       genre  \\\n",
       "0                                       CYR                        Rock   \n",
       "1                      Dimensional Stardust                        Jazz   \n",
       "2                                       III                     Pop/R&B   \n",
       "3                         Spontaneous Order                  Electronic   \n",
       "4                          No Panic No Pain                         Rap   \n",
       "5                            Shadow of Fear      ElectronicExperimental   \n",
       "6                       Il Quadro di Troisi                  Electronic   \n",
       "7                Musick to Play in the Dark  ElectronicExperimentalRock   \n",
       "8                The Concert for Bangladesh            RockExperimental   \n",
       "9                                       NaN                       ERROR   \n",
       "10                        Copycat Killer EP                Folk/Country   \n",
       "11  Sin Miedo (del Amor y Otros Demonios) ∞                     Pop/R&B   \n",
       "\n",
       "                date                                    review_abstract  score  \n",
       "0    December 1 2020  Billy Corgan reenlists the creative core of Ja...    5.5  \n",
       "1    December 1 2020  The Chicago jazz composer stitches together an...    8.0  \n",
       "2    December 1 2020  A decade after their last album together, the ...    7.3  \n",
       "3    December 1 2020  Dutch producer Bas Bron abandons the understat...    6.5  \n",
       "4   November 30 2020  The long-awaited debut from this hotly tipped ...    6.7  \n",
       "5   November 30 2020  The post-punk/proto-industrial group is now do...    6.8  \n",
       "6   November 30 2020  Italian electronic musicians Donato Dozzy and ...    7.5  \n",
       "7   November 30 2020  Newly reissued, the duo’s 1999 magnum opus que...    8.4  \n",
       "8   November 29 2020  Each Sunday, Pitchfork takes an in-depth look ...    9.0  \n",
       "9              ERROR                                              ERROR  ERROR  \n",
       "10  November 27 2020  The songwriter’s new EP reimagines four tracks...    7.2  \n",
       "11  November 25 2020  On her first Spanish-language LP, the Colombia...    7.8  "
      ]
     },
     "execution_count": 3,
     "metadata": {},
     "output_type": "execute_result"
    }
   ],
   "source": [
    "scrape_list_page('https://pitchfork.com/reviews/albums/?page=4')"
   ]
  },
  {
   "cell_type": "code",
   "execution_count": 4,
   "metadata": {},
   "outputs": [],
   "source": [
    "def scrape_all_pages(start_p, end_p):\n",
    "    l = []\n",
    "    for i in range(start_p, end_p):\n",
    "        url = 'https://pitchfork.com/reviews/albums/?page=' + str(i)\n",
    "        x = scrape_list_page(url)\n",
    "        x['page'] = str(i)\n",
    "        l.append(x)\n",
    "    return pd.concat(l)\n",
    "        "
   ]
  },
  {
   "cell_type": "code",
   "execution_count": 5,
   "metadata": {},
   "outputs": [
    {
     "ename": "AttributeError",
     "evalue": "'NoneType' object has no attribute 'findAll'",
     "output_type": "error",
     "traceback": [
      "\u001b[1;31m---------------------------------------------------------------------------\u001b[0m",
      "\u001b[1;31mAttributeError\u001b[0m                            Traceback (most recent call last)",
      "\u001b[1;32m<ipython-input-5-c14f8bfb55c5>\u001b[0m in \u001b[0;36m<module>\u001b[1;34m\u001b[0m\n\u001b[1;32m----> 1\u001b[1;33m \u001b[0mdf1\u001b[0m \u001b[1;33m=\u001b[0m \u001b[0mscrape_all_pages\u001b[0m\u001b[1;33m(\u001b[0m\u001b[1;36m1\u001b[0m\u001b[1;33m,\u001b[0m \u001b[1;36m50\u001b[0m\u001b[1;33m)\u001b[0m\u001b[1;33m\u001b[0m\u001b[0m\n\u001b[0m",
      "\u001b[1;32m<ipython-input-4-daa8dfef9434>\u001b[0m in \u001b[0;36mscrape_all_pages\u001b[1;34m(start_p, end_p)\u001b[0m\n\u001b[0;32m      3\u001b[0m     \u001b[1;32mfor\u001b[0m \u001b[0mi\u001b[0m \u001b[1;32min\u001b[0m \u001b[0mrange\u001b[0m\u001b[1;33m(\u001b[0m\u001b[0mstart_p\u001b[0m\u001b[1;33m,\u001b[0m \u001b[0mend_p\u001b[0m\u001b[1;33m)\u001b[0m\u001b[1;33m:\u001b[0m\u001b[1;33m\u001b[0m\u001b[0m\n\u001b[0;32m      4\u001b[0m         \u001b[0murl\u001b[0m \u001b[1;33m=\u001b[0m \u001b[1;34m'https://pitchfork.com/reviews/albums/?page='\u001b[0m \u001b[1;33m+\u001b[0m \u001b[0mstr\u001b[0m\u001b[1;33m(\u001b[0m\u001b[0mi\u001b[0m\u001b[1;33m)\u001b[0m\u001b[1;33m\u001b[0m\u001b[0m\n\u001b[1;32m----> 5\u001b[1;33m         \u001b[0mx\u001b[0m \u001b[1;33m=\u001b[0m \u001b[0mscrape_list_page\u001b[0m\u001b[1;33m(\u001b[0m\u001b[0murl\u001b[0m\u001b[1;33m)\u001b[0m\u001b[1;33m\u001b[0m\u001b[0m\n\u001b[0m\u001b[0;32m      6\u001b[0m         \u001b[0mx\u001b[0m\u001b[1;33m[\u001b[0m\u001b[1;34m'page'\u001b[0m\u001b[1;33m]\u001b[0m \u001b[1;33m=\u001b[0m \u001b[0mstr\u001b[0m\u001b[1;33m(\u001b[0m\u001b[0mi\u001b[0m\u001b[1;33m)\u001b[0m\u001b[1;33m\u001b[0m\u001b[0m\n\u001b[0;32m      7\u001b[0m         \u001b[0ml\u001b[0m\u001b[1;33m.\u001b[0m\u001b[0mappend\u001b[0m\u001b[1;33m(\u001b[0m\u001b[0mx\u001b[0m\u001b[1;33m)\u001b[0m\u001b[1;33m\u001b[0m\u001b[0m\n",
      "\u001b[1;32m<ipython-input-2-7bfe0324d71d>\u001b[0m in \u001b[0;36mscrape_list_page\u001b[1;34m(url)\u001b[0m\n\u001b[0;32m      3\u001b[0m     \u001b[0msoup\u001b[0m \u001b[1;33m=\u001b[0m \u001b[0mbs4\u001b[0m\u001b[1;33m.\u001b[0m\u001b[0mBeautifulSoup\u001b[0m\u001b[1;33m(\u001b[0m\u001b[0mr\u001b[0m\u001b[1;33m.\u001b[0m\u001b[0mtext\u001b[0m\u001b[1;33m,\u001b[0m \u001b[1;34m'html.parser'\u001b[0m\u001b[1;33m)\u001b[0m\u001b[1;33m\u001b[0m\u001b[0m\n\u001b[0;32m      4\u001b[0m     \u001b[0ms\u001b[0m \u001b[1;33m=\u001b[0m \u001b[0msoup\u001b[0m\u001b[1;33m.\u001b[0m\u001b[0mfind\u001b[0m\u001b[1;33m(\u001b[0m\u001b[1;34m'div'\u001b[0m\u001b[1;33m,\u001b[0m \u001b[1;33m{\u001b[0m\u001b[1;34m'class'\u001b[0m\u001b[1;33m:\u001b[0m \u001b[1;34m'fragment-list'\u001b[0m\u001b[1;33m}\u001b[0m\u001b[1;33m)\u001b[0m\u001b[1;33m\u001b[0m\u001b[0m\n\u001b[1;32m----> 5\u001b[1;33m     \u001b[0ms2\u001b[0m \u001b[1;33m=\u001b[0m \u001b[0ms\u001b[0m\u001b[1;33m.\u001b[0m\u001b[0mfindAll\u001b[0m\u001b[1;33m(\u001b[0m\u001b[1;34m'div'\u001b[0m\u001b[1;33m,\u001b[0m \u001b[1;33m{\u001b[0m\u001b[1;34m'class'\u001b[0m\u001b[1;33m:\u001b[0m \u001b[1;34m'review'\u001b[0m\u001b[1;33m}\u001b[0m\u001b[1;33m)\u001b[0m\u001b[1;33m\u001b[0m\u001b[0m\n\u001b[0m\u001b[0;32m      6\u001b[0m     \u001b[0ml\u001b[0m \u001b[1;33m=\u001b[0m \u001b[1;33m[\u001b[0m\u001b[1;33m]\u001b[0m\u001b[1;33m\u001b[0m\u001b[0m\n\u001b[0;32m      7\u001b[0m     \u001b[1;32mfor\u001b[0m \u001b[0mitem\u001b[0m \u001b[1;32min\u001b[0m \u001b[0ms2\u001b[0m\u001b[1;33m:\u001b[0m\u001b[1;33m\u001b[0m\u001b[0m\n",
      "\u001b[1;31mAttributeError\u001b[0m: 'NoneType' object has no attribute 'findAll'"
     ]
    }
   ],
   "source": [
    "df1 = scrape_all_pages(1, 50)"
   ]
  },
  {
   "cell_type": "code",
   "execution_count": null,
   "metadata": {},
   "outputs": [],
   "source": [
    "df2 = scrape_all_pages(51, 100)"
   ]
  },
  {
   "cell_type": "code",
   "execution_count": null,
   "metadata": {},
   "outputs": [],
   "source": [
    "df3 = scrape_all_pages(101, 150)"
   ]
  },
  {
   "cell_type": "code",
   "execution_count": null,
   "metadata": {},
   "outputs": [],
   "source": [
    "df4 = scrape_all_pages(151, 200)"
   ]
  },
  {
   "cell_type": "code",
   "execution_count": null,
   "metadata": {},
   "outputs": [],
   "source": [
    "df5 = scrape_all_pages(201, 250)"
   ]
  },
  {
   "cell_type": "code",
   "execution_count": null,
   "metadata": {},
   "outputs": [],
   "source": [
    "df6 = scrape_all_pages(251, 300)"
   ]
  },
  {
   "cell_type": "code",
   "execution_count": null,
   "metadata": {},
   "outputs": [],
   "source": [
    "df7 = scrape_all_pages(301, 350)"
   ]
  },
  {
   "cell_type": "code",
   "execution_count": null,
   "metadata": {},
   "outputs": [],
   "source": [
    "df8 = scrape_all_pages(351, 400)"
   ]
  },
  {
   "cell_type": "code",
   "execution_count": null,
   "metadata": {},
   "outputs": [],
   "source": [
    "df9 = scrape_all_pages(401, 450)"
   ]
  },
  {
   "cell_type": "code",
   "execution_count": null,
   "metadata": {},
   "outputs": [],
   "source": [
    "df10 = scrape_all_pages(451, 500)"
   ]
  },
  {
   "cell_type": "code",
   "execution_count": null,
   "metadata": {},
   "outputs": [],
   "source": [
    "df11 = scrape_all_pages(501, 550)"
   ]
  },
  {
   "cell_type": "code",
   "execution_count": null,
   "metadata": {},
   "outputs": [],
   "source": [
    "df12 = scrape_all_pages(551, 600)"
   ]
  },
  {
   "cell_type": "code",
   "execution_count": null,
   "metadata": {},
   "outputs": [],
   "source": [
    "df13 = scrape_all_pages(601, 650)"
   ]
  },
  {
   "cell_type": "code",
   "execution_count": null,
   "metadata": {},
   "outputs": [],
   "source": [
    "df14 = scrape_all_pages(651, 700)"
   ]
  },
  {
   "cell_type": "code",
   "execution_count": null,
   "metadata": {},
   "outputs": [],
   "source": [
    "df15 = scrape_all_pages(701, 750)"
   ]
  },
  {
   "cell_type": "code",
   "execution_count": null,
   "metadata": {},
   "outputs": [],
   "source": [
    "df16 = scrape_all_pages(751, 800)"
   ]
  },
  {
   "cell_type": "code",
   "execution_count": null,
   "metadata": {},
   "outputs": [],
   "source": [
    "df17 = scrape_all_pages(801, 850)"
   ]
  },
  {
   "cell_type": "code",
   "execution_count": null,
   "metadata": {},
   "outputs": [],
   "source": [
    "df18 = scrape_all_pages(851, 900)"
   ]
  },
  {
   "cell_type": "code",
   "execution_count": null,
   "metadata": {},
   "outputs": [],
   "source": [
    "df19 = scrape_all_pages(901, 950)"
   ]
  },
  {
   "cell_type": "code",
   "execution_count": null,
   "metadata": {},
   "outputs": [],
   "source": [
    "df20 = scrape_all_pages(951, 1000)"
   ]
  },
  {
   "cell_type": "code",
   "execution_count": null,
   "metadata": {},
   "outputs": [],
   "source": [
    "df = pd.concat([df1, df2, df3, df4, df5, df6, df7, df8, df9, df10, df11, df12, df13, df14, df15, df16, df17, df18, df19, df20])\n",
    "df"
   ]
  },
  {
   "cell_type": "code",
   "execution_count": null,
   "metadata": {},
   "outputs": [],
   "source": [
    "df = df[df['author'] != 'ERROR']\n",
    "df"
   ]
  },
  {
   "cell_type": "code",
   "execution_count": null,
   "metadata": {},
   "outputs": [],
   "source": [
    "df = df[df['date'] != '14 hrs ago']\n",
    "df"
   ]
  },
  {
   "cell_type": "code",
   "execution_count": null,
   "metadata": {},
   "outputs": [],
   "source": [
    "df['score'] = df['score'].apply(float)"
   ]
  },
  {
   "cell_type": "code",
   "execution_count": null,
   "metadata": {},
   "outputs": [],
   "source": [
    "df.info()"
   ]
  },
  {
   "cell_type": "code",
   "execution_count": null,
   "metadata": {},
   "outputs": [],
   "source": [
    "df['score'].hist()"
   ]
  },
  {
   "cell_type": "code",
   "execution_count": null,
   "metadata": {},
   "outputs": [],
   "source": [
    "df.info()"
   ]
  },
  {
   "cell_type": "code",
   "execution_count": null,
   "metadata": {},
   "outputs": [],
   "source": [
    "#df['author'] = re.sub(r\"(?|by: )\", \"\", df['author'])\n",
    "df['author'] = df['author'].map(lambda x: x.lstrip('(?|by: )'))\n",
    "df"
   ]
  },
  {
   "cell_type": "code",
   "execution_count": null,
   "metadata": {},
   "outputs": [],
   "source": [
    "df.nunique()"
   ]
  },
  {
   "cell_type": "code",
   "execution_count": null,
   "metadata": {},
   "outputs": [],
   "source": [
    "df.isna().sum()"
   ]
  },
  {
   "cell_type": "code",
   "execution_count": null,
   "metadata": {},
   "outputs": [],
   "source": [
    "df.drop_duplicates(subset=['review_abstract'])"
   ]
  },
  {
   "cell_type": "code",
   "execution_count": null,
   "metadata": {},
   "outputs": [],
   "source": [
    "df = df.drop(columns=['Unnamed: 0'], axis=1)\n",
    "df"
   ]
  },
  {
   "cell_type": "code",
   "execution_count": null,
   "metadata": {},
   "outputs": [],
   "source": [
    "conditions = [\n",
    "    (df['score'] < 6.5),\n",
    "    (df['score'] >= 6.5) & (df['score'] < 8),\n",
    "    (df['score'] >= 8)\n",
    "]\n",
    "\n",
    "values = ['low', 'medium', 'high']\n",
    "\n",
    "df['target'] = np.select(conditions, values)\n",
    "\n",
    "df"
   ]
  },
  {
   "cell_type": "code",
   "execution_count": null,
   "metadata": {},
   "outputs": [],
   "source": [
    "df.info()"
   ]
  },
  {
   "cell_type": "code",
   "execution_count": null,
   "metadata": {},
   "outputs": [],
   "source": [
    "df['month'] = df['date'].dt.strftime('%B')\n",
    "df.nunique()"
   ]
  },
  {
   "cell_type": "code",
   "execution_count": null,
   "metadata": {},
   "outputs": [],
   "source": [
    "df = df.drop_duplicates(subset=['review_abstract'])\n",
    "df"
   ]
  },
  {
   "cell_type": "code",
   "execution_count": null,
   "metadata": {},
   "outputs": [],
   "source": [
    "df.rename(columns = {'testing':'target'}, inplace = True) \n",
    "df"
   ]
  },
  {
   "cell_type": "code",
   "execution_count": null,
   "metadata": {},
   "outputs": [],
   "source": [
    "df.head()"
   ]
  },
  {
   "cell_type": "code",
   "execution_count": null,
   "metadata": {},
   "outputs": [],
   "source": [
    "df.dropna()"
   ]
  },
  {
   "cell_type": "code",
   "execution_count": null,
   "metadata": {},
   "outputs": [],
   "source": [
    "df.to_csv('Pitchfork.csv', index=False)"
   ]
  },
  {
   "cell_type": "code",
   "execution_count": null,
   "metadata": {},
   "outputs": [],
   "source": [
    "df = pd.read_csv('Pitchfork.csv')\n",
    "df.head()"
   ]
  },
  {
   "cell_type": "code",
   "execution_count": null,
   "metadata": {},
   "outputs": [],
   "source": [
    "df['self-titled'] = np.where(df['artist'] == df['title'], 1, 0)"
   ]
  },
  {
   "cell_type": "code",
   "execution_count": null,
   "metadata": {},
   "outputs": [],
   "source": [
    "df.info()"
   ]
  },
  {
   "cell_type": "code",
   "execution_count": null,
   "metadata": {},
   "outputs": [],
   "source": [
    "df['date'] = pd.to_datetime(df['date'])"
   ]
  },
  {
   "cell_type": "code",
   "execution_count": null,
   "metadata": {},
   "outputs": [],
   "source": [
    "df['sophomore'] = np.where(df['review_abstract'].str.contains('sophomore', regex=False), 1, 0)"
   ]
  },
  {
   "cell_type": "code",
   "execution_count": null,
   "metadata": {},
   "outputs": [],
   "source": [
    "df[df['sophomore'] == True]"
   ]
  },
  {
   "cell_type": "code",
   "execution_count": null,
   "metadata": {},
   "outputs": [],
   "source": [
    "df['EP'] = np.where(df['title'].str.contains('EP', regex=False), 1, 0)"
   ]
  },
  {
   "cell_type": "code",
   "execution_count": null,
   "metadata": {},
   "outputs": [],
   "source": [
    "df['debut'] = np.where(df['title'].str.contains('debut', regex=False), 1, 0)"
   ]
  }
 ],
 "metadata": {
  "kernelspec": {
   "display_name": "Python 3",
   "language": "python",
   "name": "python3"
  },
  "language_info": {
   "codemirror_mode": {
    "name": "ipython",
    "version": 3
   },
   "file_extension": ".py",
   "mimetype": "text/x-python",
   "name": "python",
   "nbconvert_exporter": "python",
   "pygments_lexer": "ipython3",
   "version": "3.6.5"
  }
 },
 "nbformat": 4,
 "nbformat_minor": 2
}
